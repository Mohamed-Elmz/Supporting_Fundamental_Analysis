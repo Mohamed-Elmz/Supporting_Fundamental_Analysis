{
  "nbformat": 4,
  "nbformat_minor": 0,
  "metadata": {
    "colab": {
      "provenance": []
    },
    "kernelspec": {
      "name": "python3",
      "display_name": "Python 3"
    },
    "language_info": {
      "name": "python"
    }
  },
  "cells": [
    {
      "cell_type": "code",
      "execution_count": 1,
      "metadata": {
        "id": "ijXJ0zNYq-FC"
      },
      "outputs": [],
      "source": [
        "from google.colab import drive"
      ]
    },
    {
      "cell_type": "code",
      "source": [
        "drive.mount('/content/drive')"
      ],
      "metadata": {
        "colab": {
          "base_uri": "https://localhost:8080/"
        },
        "id": "JdB7LXtSr2f5",
        "outputId": "18cb4d48-849c-40cf-dcf5-ea7523c69ffd"
      },
      "execution_count": 2,
      "outputs": [
        {
          "output_type": "stream",
          "name": "stdout",
          "text": [
            "Mounted at /content/drive\n"
          ]
        }
      ]
    },
    {
      "cell_type": "code",
      "source": [
        "import numpy as np\n",
        "import pandas as pd\n",
        "import os\n",
        "import glob\n",
        "import pickle\n",
        "import json\n",
        "import sys\n",
        "import argparse\n",
        "from datetime import datetime, timedelta\n",
        "from scipy import stats\n",
        "#import pandas_datareader.data as web\n",
        "import yfinance as yf\n",
        "#from openbb_terminal.sdk import openbb"
      ],
      "metadata": {
        "id": "cnyxom_kr_qp"
      },
      "execution_count": 28,
      "outputs": []
    },
    {
      "cell_type": "code",
      "source": [
        "args = argparse.Namespace(config_path=\"/content/drive/My Drive/DS340/config.json\")"
      ],
      "metadata": {
        "id": "UIjADaiZxrRK"
      },
      "execution_count": 42,
      "outputs": []
    },
    {
      "cell_type": "code",
      "source": [
        "# returns the list of report dates for the given symbol, sorted in ascending order\n",
        "def get_ar_dates(symbol, config_dict):\n",
        "    '''\n",
        "    Returns: The annual report dates for each symbol.\n",
        "    '''\n",
        "    symbol_path = os.path.join(config_dict['annual_reports_pdf_save_directory'], symbol)\n",
        "    folder_names = [os.path.basename(folder) for folder in glob.glob(os.path.join(symbol_path, '*')) \\\n",
        "                        if os.path.isdir(folder)]\n",
        "    return sorted(folder_names)"
      ],
      "metadata": {
        "id": "otLErY3Pu1s4"
      },
      "execution_count": 6,
      "outputs": []
    },
    {
      "cell_type": "code",
      "source": [
        "def get_pct_returns_defined_date(price_data, start_date, end_date, tolerance_days = 7):\n",
        "    '''\n",
        "    Function to give percentage returns over a defined time range.\n",
        "    Args:\n",
        "        price_data: A pandas DF containing the overall price history of a stock symbol\n",
        "        start_date: The start date of computing pct returns\n",
        "        end_date: The end date of computing pct returns\n",
        "        tolerance_days: If the price data is missing for more than this then return nan.\n",
        "                        Some data can be missing due to Weekends or Holidays\n",
        "    Returns:\n",
        "        Percentage price change between start and end date.\n",
        "    '''\n",
        "    price_data_range = price_data.sort_index().loc[lambda x: (x.index>=start_date) & \\\n",
        "                                                               (x.index <= end_date)]\n",
        "    #num_days_diff_start = (price_data_range.index[0] - start_date).days\n",
        "    num_days_diff_start = (price_data_range.index[0] - pd.Timestamp(start_date)).days\n",
        "    num_days_diff_end = (pd.Timestamp(end_date) - price_data_range.index[-1]).days\n",
        "    if ((num_days_diff_start > tolerance_days) | (num_days_diff_end >= tolerance_days)):\n",
        "        return np.nan\n",
        "    start_price = price_data_range.iloc[0]['Adj Close']\n",
        "    end_price = price_data_range.iloc[-1]['Adj Close']\n",
        "    price_pct_diff = ((end_price - start_price)/start_price) * 100.0\n",
        "    return price_pct_diff"
      ],
      "metadata": {
        "id": "wKKLUvbpvX05"
      },
      "execution_count": 32,
      "outputs": []
    },
    {
      "cell_type": "code",
      "source": [
        "def get_pct_returns_range(price_data, start_date, end_date, quantile, tolerance_days = 7):\n",
        "    '''\n",
        "    Function to give quantile based percentage returns between a defined time range.\n",
        "    For example to get the maximum returns achieved from start_date and before the end_date\n",
        "    Args:\n",
        "        price_data: A pandas DF containing the overall price history of a stock symbol\n",
        "        start_date: The start date of computing pct returns\n",
        "        end_date: The end date of computing pct returns\n",
        "        tolerance_days: If the price data is missing for more than this then return nan.\n",
        "                        Some data can be missing due to Weekends or Holidays\n",
        "    Returns:\n",
        "        Specified quantile of percentage price change between start_date and before the end_date\n",
        "    '''\n",
        "    price_data_range = price_data.sort_index().loc[lambda x: (x.index>=start_date) & \\\n",
        "                                                               (x.index <= end_date)]\n",
        "    num_days_diff_start = (price_data_range.index[0] - pd.Timestamp(start_date)).days\n",
        "    num_days_diff_end = (pd.Timestamp(end_date) - price_data_range.index[-1]).days\n",
        "    if ((num_days_diff_start > tolerance_days) | (num_days_diff_end >= tolerance_days)):\n",
        "        return np.nan\n",
        "    start_price = price_data_range.iloc[0]['Adj Close']\n",
        "    end_price = price_data_range['Adj Close'].quantile(quantile)\n",
        "    price_pct_diff = ((end_price - start_price)/start_price) * 100.0\n",
        "    return price_pct_diff"
      ],
      "metadata": {
        "id": "d26bGpvivnDn"
      },
      "execution_count": 33,
      "outputs": []
    },
    {
      "cell_type": "code",
      "source": [
        "def get_all_targets(price_data, start_date, num_days_12m, prepend_string):\n",
        "    '''\n",
        "    Function to return a dictionary of targets which contain percentage returns over different\n",
        "    time ranges and quantiles\n",
        "    Args:\n",
        "        price_data: A pandas DF containing the overall price history of a stock symbol\n",
        "        start_date: The start date of computing pct returns\n",
        "        num_days_12m: Num of Days between start_date and successive annual report date\n",
        "        prepend_string: Denoting the category of price_data. One of 'target' and 'sp500'\n",
        "    '''\n",
        "    target_returns_dict = {}\n",
        "    try:\n",
        "        #98th percentile is proxy for max returns\n",
        "        target_returns_dict['{}_max'.format(prepend_string)] = get_pct_returns_range(price_data,\n",
        "                                                                  start_date,\n",
        "                                                                  start_date + timedelta(days=num_days_12m),\n",
        "                                                                  0.98)\n",
        "        #2nd percentile is proxy for min returns\n",
        "        target_returns_dict['{}_min'.format(prepend_string)] = get_pct_returns_range(price_data,\n",
        "                                                                  start_date,\n",
        "                                                                  start_date + timedelta(days=num_days_12m),\n",
        "                                                                  0.02)\n",
        "    except:\n",
        "        target_returns_dict['{}_max'.format(prepend_string)] = np.nan\n",
        "        target_returns_dict['{}_min'.format(prepend_string)] = np.nan\n",
        "\n",
        "    #Get returns for 3, 6, 9 and 12 month duration. Some alteration is done in time duration\n",
        "    #as the annual reports may be release in an interval of less or more than 12 months.\n",
        "    for period in [3, 6, 9, 12]:\n",
        "        num_days = int(num_days_12m * (period/12))\n",
        "        end_date = pd.Timestamp(start_date) + timedelta(days=num_days)\n",
        "        try:\n",
        "            pct_returns = get_pct_returns_defined_date(price_data, start_date, end_date)\n",
        "        except:\n",
        "            pct_returns = np.nan\n",
        "        target_returns_dict['{}_{}m'.format(prepend_string, str(period))] = pct_returns\n",
        "    return target_returns_dict"
      ],
      "metadata": {
        "id": "ngHVcxsawMWS"
      },
      "execution_count": 34,
      "outputs": []
    },
    {
      "cell_type": "code",
      "source": [
        "def make_targets(symbol, start_date, end_date, price_data_sp500, config_dict):\n",
        "    '''\n",
        "    Function to generate target return information for each symbol based on\n",
        "    annual report dates\n",
        "    Args:\n",
        "        symbol: stock ticker\n",
        "        start_date: overall historical start date from where price data is to be fetched\n",
        "        end_date: overall end date upto which price data is to be fetched\n",
        "        price_data_sp500: Prefetched dataframe for ticker ^GSPC which gives price data for S&P500\n",
        "    Returns:\n",
        "        Pandas DF containing percentage returns between annual report dates for the symbol\n",
        "    '''\n",
        "    #price_data = openbb.stocks.load(symbol, start_date=start_date, end_date=end_date, verbose=False)\n",
        "    #price_data = web.DataReader(symbol, \"yahoo\", start=start_date, end=end_date)\n",
        "    price_data = yf.download(symbol, start=start_date, end=end_date)\n",
        "\n",
        "    ar_dates = get_ar_dates(symbol, config_dict)\n",
        "    print(ar_dates)\n",
        "    df = pd.DataFrame()\n",
        "    for i in range(len(ar_dates)-1):\n",
        "        curr_report_date = datetime.strptime(ar_dates[i], '%Y-%m-%d')\n",
        "        #Start and end dates are offset by 2 days to be conservative and allowing the price to settle.\n",
        "        curr_start_date = datetime.strptime(ar_dates[i], '%Y-%m-%d') + timedelta(days=2)\n",
        "        curr_end_date_12m = datetime.strptime(ar_dates[i+1], '%Y-%m-%d') - timedelta(days=2)\n",
        "        num_days_12m = (curr_end_date_12m - curr_start_date).days\n",
        "        if (num_days_12m < 200):\n",
        "            continue\n",
        "        target_dict = get_all_targets(price_data, curr_start_date, num_days_12m, 'target')\n",
        "        sp500_dict = get_all_targets(price_data_sp500, curr_start_date, num_days_12m, 'sp500')\n",
        "        target_dict.update(sp500_dict)\n",
        "        target_df = pd.DataFrame.from_dict(target_dict, orient='index').T\n",
        "        target_df['report_date'] = curr_report_date\n",
        "        target_df['start_date'] = curr_start_date\n",
        "        target_df['end_date'] = curr_end_date_12m\n",
        "        df = pd.concat([df, target_df], ignore_index=True)\n",
        "    df['symbol'] = symbol\n",
        "    return df"
      ],
      "metadata": {
        "id": "Ud44LG0rwYvT"
      },
      "execution_count": 35,
      "outputs": []
    },
    {
      "cell_type": "code",
      "source": [
        "def make_targets_all_symbols(start_date, end_date, config_dict):\n",
        "    '''\n",
        "    Function to return the complete dataframe for all symbols and all annual report date periods\n",
        "    '''\n",
        "    symbol_names = [os.path.basename(folder) for folder in glob.glob(os.path.join(config_dict['annual_reports_pdf_save_directory'], '*')) \\\n",
        "                            if os.path.isdir(folder)]\n",
        "    print(symbol_names[0:5])\n",
        "    #price_data_sp500 = openbb.stocks.load('^GSPC', start_date=start_date, end_date=end_date, verbose=False)\n",
        "    #price_data_sp500 = web.DataReader('^GSPC', \"yahoo\", start=start_date, end=end_date)\n",
        "    price_data_sp500 = yf.download('^GSPC', start=start_date, end=end_date)\n",
        "    print(price_data_sp500)\n",
        "\n",
        "    full_df = pd.DataFrame()\n",
        "    #Iterate over all symbols in the directory\n",
        "    for i, symbol in enumerate(symbol_names):\n",
        "        df = make_targets(symbol, start_date, end_date, price_data_sp500, config_dict)\n",
        "        full_df = pd.concat([full_df, df], ignore_index=True)\n",
        "        print('Completed: {}/{}'.format(i+1, len(symbol_names)))\n",
        "    return full_df"
      ],
      "metadata": {
        "id": "mfY9GX4nwxnM"
      },
      "execution_count": 36,
      "outputs": []
    },
    {
      "cell_type": "code",
      "source": [
        "def get_normalized_column(df, col):\n",
        "    '''\n",
        "    Function to rank and then normalise a column in the df.\n",
        "    Returns:\n",
        "        Pandas DF with additional normalised column\n",
        "    '''\n",
        "    new_col = col + '_normalised'\n",
        "    preds = df.loc[:, col]\n",
        "    ranked_preds = (preds.rank(method=\"average\").values - 0.5) / preds.count()\n",
        "    gauss_ranked_preds = stats.norm.ppf(ranked_preds)\n",
        "    df.loc[:, new_col] = gauss_ranked_preds\n",
        "    return df"
      ],
      "metadata": {
        "id": "4vMnP7MexGGw"
      },
      "execution_count": 37,
      "outputs": []
    },
    {
      "cell_type": "code",
      "source": [
        "def bin_targets(df, input_col, output_col, percentile_list, label_list):\n",
        "    '''\n",
        "    Function for binning target columns according to percentiles\n",
        "    Args:\n",
        "        input_col: target column to normalise\n",
        "        output_col: Name of new normalised column\n",
        "        percentile_list: Percentiles for binning\n",
        "        label_list: labels aka bins\n",
        "    Returns:\n",
        "        Pandas DF with binned targets. Used for final ML model building\n",
        "    '''\n",
        "    s = df.loc[:, input_col]\n",
        "    binned_series = pd.qcut(s, q=percentile_list, labels=label_list)\n",
        "    label_list_float = [np.float32(x) for x in label_list]\n",
        "    binned_series.replace(to_replace=label_list, value=label_list_float, inplace=True)\n",
        "    df.loc[:, output_col] = binned_series.astype('float32')\n",
        "    return df"
      ],
      "metadata": {
        "id": "0UUTWItLxMuF"
      },
      "execution_count": 38,
      "outputs": []
    },
    {
      "cell_type": "code",
      "source": [
        "def main(args):\n",
        "    with open(args.config_path) as json_file:\n",
        "        config_dict = json.load(json_file)\n",
        "    start_date='2002-01-01'\n",
        "    end_date='2023-12-31'\n",
        "    targets_df = make_targets_all_symbols(start_date, end_date, config_dict)\n",
        "    targets_df_filtered = targets_df.loc[lambda x: ~(x.isnull().any(axis=1))]\n",
        "    #Create a column called era which denotes the year of annual report filing\n",
        "    targets_df_filtered['era'] = targets_df_filtered['report_date'].apply(lambda x: x.year)\n",
        "    #Drop duplicates if they exist. Could be if consecutive annual reports are published in same year.\n",
        "    targets_df_filtered_dedup = targets_df_filtered.drop_duplicates(subset=['era', 'symbol']).reset_index(drop=True)\n",
        "    target_cols = [c for c in targets_df_filtered_dedup.columns if c.startswith('target')]\n",
        "    #Generate normalised target columns\n",
        "    for target in target_cols:\n",
        "        targets_df_filtered_dedup = targets_df_filtered_dedup.groupby('era', group_keys=False).apply(lambda df: \\\n",
        "                                                                        get_normalized_column(df, target))\n",
        "    target_cols_normalised = [c for c in targets_df_filtered_dedup.columns if \\\n",
        "                                (c.startswith('target') & (c.endswith('normalised')))]\n",
        "    #Create final target column for Machine Learning model building\n",
        "    input_col_target = 'target_12m_normalised'\n",
        "    output_col_target = 'target_ml'\n",
        "    targets_df_filtered_dedup = targets_df_filtered_dedup.groupby('era', group_keys=False)\\\n",
        "                                    .apply(lambda df: bin_targets(df, input_col_target, output_col_target,\n",
        "                                                                    [0, 0.2, 0.4, 0.6, 0.8, 1.0],\n",
        "                                                                    ['0.0', '0.25', '0.5', '0.75', '1.0']))\n",
        "    with open(config_dict['targets_df_path'], 'wb') as handle:\n",
        "        pickle.dump(targets_df_filtered_dedup, handle, protocol=pickle.HIGHEST_PROTOCOL)"
      ],
      "metadata": {
        "id": "Wm8HogA9xSuU"
      },
      "execution_count": 39,
      "outputs": []
    },
    {
      "cell_type": "code",
      "source": [
        "main(args)"
      ],
      "metadata": {
        "colab": {
          "base_uri": "https://localhost:8080/"
        },
        "id": "8TQyD-wzxlfv",
        "outputId": "39f3e7f5-bc7f-4868-b835-50f371d37019"
      },
      "execution_count": 43,
      "outputs": [
        {
          "output_type": "stream",
          "name": "stdout",
          "text": [
            "['AAPL', 'INCY', 'CEVA', 'ESAB', 'BCO']\n"
          ]
        },
        {
          "output_type": "stream",
          "name": "stderr",
          "text": [
            "\r[*********************100%%**********************]  1 of 1 completed\n"
          ]
        },
        {
          "output_type": "stream",
          "name": "stdout",
          "text": [
            "                   Open         High          Low        Close    Adj Close  \\\n",
            "Date                                                                          \n",
            "2002-01-02  1148.079956  1154.670044  1136.229980  1154.670044  1154.670044   \n",
            "2002-01-03  1154.670044  1165.270020  1154.010010  1165.270020  1165.270020   \n",
            "2002-01-04  1165.270020  1176.550049  1163.420044  1172.510010  1172.510010   \n",
            "2002-01-07  1172.510010  1176.969971  1163.550049  1164.890015  1164.890015   \n",
            "2002-01-08  1164.890015  1167.599976  1157.459961  1160.709961  1160.709961   \n",
            "...                 ...          ...          ...          ...          ...   \n",
            "2023-12-22  4753.919922  4772.939941  4736.770020  4754.629883  4754.629883   \n",
            "2023-12-26  4758.859863  4784.720215  4758.450195  4774.750000  4774.750000   \n",
            "2023-12-27  4773.450195  4785.390137  4768.899902  4781.580078  4781.580078   \n",
            "2023-12-28  4786.439941  4793.299805  4780.979980  4783.350098  4783.350098   \n",
            "2023-12-29  4782.879883  4788.430176  4751.990234  4769.830078  4769.830078   \n",
            "\n",
            "                Volume  \n",
            "Date                    \n",
            "2002-01-02  1171000000  \n",
            "2002-01-03  1398900000  \n",
            "2002-01-04  1513000000  \n",
            "2002-01-07  1308300000  \n",
            "2002-01-08  1258800000  \n",
            "...                ...  \n",
            "2023-12-22  3046770000  \n",
            "2023-12-26  2513910000  \n",
            "2023-12-27  2748450000  \n",
            "2023-12-28  2698860000  \n",
            "2023-12-29  3126060000  \n",
            "\n",
            "[5537 rows x 6 columns]\n"
          ]
        },
        {
          "output_type": "stream",
          "name": "stderr",
          "text": [
            "\r[*********************100%%**********************]  1 of 1 completed\n"
          ]
        },
        {
          "output_type": "stream",
          "name": "stdout",
          "text": [
            "['2002-12-19', '2003-12-19', '2004-12-03', '2005-12-01', '2006-12-29', '2007-11-15', '2008-11-05', '2009-10-27', '2010-10-27', '2011-10-26', '2012-10-31', '2013-10-30', '2014-10-27', '2015-10-28', '2016-10-26', '2017-11-03', '2018-11-05', '2019-10-31', '2020-10-30', '2021-10-29', '2022-10-28', '2023-11-03']\n",
            "Completed: 1/198\n"
          ]
        },
        {
          "output_type": "stream",
          "name": "stderr",
          "text": [
            "\r[*********************100%%**********************]  1 of 1 completed\n"
          ]
        },
        {
          "output_type": "stream",
          "name": "stdout",
          "text": [
            "['2002-04-01', '2003-03-28', '2004-03-15', '2005-03-11', '2006-03-03', '2007-02-28', '2008-03-06', '2009-03-03', '2010-03-05', '2011-02-23', '2012-02-22', '2013-02-21', '2014-02-21', '2015-02-17', '2016-02-12', '2017-02-14', '2018-02-15', '2019-02-14', '2020-02-13', '2021-02-09', '2022-02-08', '2023-02-07']\n",
            "Completed: 2/198\n"
          ]
        },
        {
          "output_type": "stream",
          "name": "stderr",
          "text": [
            "\r[*********************100%%**********************]  1 of 1 completed\n"
          ]
        },
        {
          "output_type": "stream",
          "name": "stdout",
          "text": [
            "['2003-03-28', '2004-03-12', '2005-03-18', '2006-03-14', '2007-03-16', '2008-03-14', '2009-03-13', '2010-03-15', '2011-03-15', '2012-03-15', '2013-03-15', '2014-03-14', '2015-03-13', '2016-03-11', '2017-03-10', '2018-03-01', '2019-03-04', '2020-02-28', '2021-03-01', '2022-03-01', '2023-03-01', '2024-03-07']\n",
            "Completed: 3/198\n"
          ]
        },
        {
          "output_type": "stream",
          "name": "stderr",
          "text": [
            "\r[*********************100%%**********************]  1 of 1 completed\n"
          ]
        },
        {
          "output_type": "stream",
          "name": "stdout",
          "text": [
            "['2023-03-07', '2024-02-29']\n",
            "Completed: 4/198\n"
          ]
        },
        {
          "output_type": "stream",
          "name": "stderr",
          "text": [
            "\r[*********************100%%**********************]  1 of 1 completed\n"
          ]
        },
        {
          "output_type": "stream",
          "name": "stdout",
          "text": [
            "['2003-03-26', '2004-03-15', '2005-03-16', '2006-03-08', '2007-02-27', '2008-02-27', '2009-03-02', '2010-02-25', '2011-02-28', '2012-02-28', '2013-02-28', '2014-02-28', '2015-03-05', '2016-02-29', '2017-02-24', '2018-03-01', '2019-02-26', '2020-02-28', '2021-03-01', '2022-02-28', '2023-03-01', '2024-02-29']\n",
            "Completed: 5/198\n"
          ]
        },
        {
          "output_type": "stream",
          "name": "stderr",
          "text": [
            "\r[*********************100%%**********************]  1 of 1 completed\n"
          ]
        },
        {
          "output_type": "stream",
          "name": "stdout",
          "text": [
            "['2003-01-28', '2004-01-23', '2005-01-14', '2006-02-01', '2007-01-16', '2008-01-14', '2009-01-14', '2010-01-11', '2011-01-14', '2012-01-17', '2013-01-14', '2014-01-13', '2015-01-30', '2015-12-30', '2016-12-23', '2017-12-22', '2018-12-20', '2019-12-19', '2020-12-21', '2021-12-21', '2022-12-20', '2024-01-31']\n",
            "Completed: 6/198\n"
          ]
        },
        {
          "output_type": "stream",
          "name": "stderr",
          "text": [
            "\r[*********************100%%**********************]  1 of 1 completed\n"
          ]
        },
        {
          "output_type": "stream",
          "name": "stdout",
          "text": [
            "['2003-03-07', '2004-03-12', '2005-03-07', '2006-03-07', '2007-03-09', '2008-03-10', '2009-03-09', '2010-03-05', '2011-03-01', '2012-02-29', '2013-02-28', '2014-02-28', '2015-02-25', '2016-02-26', '2017-02-28', '2018-02-27', '2019-02-27', '2020-03-02', '2021-03-01', '2022-02-28', '2023-02-24', '2024-02-23']\n",
            "Completed: 7/198\n"
          ]
        },
        {
          "output_type": "stream",
          "name": "stderr",
          "text": [
            "\r[*********************100%%**********************]  1 of 1 completed\n"
          ]
        },
        {
          "output_type": "stream",
          "name": "stdout",
          "text": [
            "['2016-03-11', '2017-03-08', '2018-03-06', '2019-02-28', '2020-02-27', '2021-02-25', '2022-02-17', '2023-02-22', '2024-02-21']\n",
            "Completed: 8/198\n"
          ]
        },
        {
          "output_type": "stream",
          "name": "stderr",
          "text": [
            "\r[*********************100%%**********************]  1 of 1 completed\n"
          ]
        },
        {
          "output_type": "stream",
          "name": "stdout",
          "text": [
            "['2022-03-25', '2023-02-24', '2024-02-23']\n",
            "Completed: 9/198\n"
          ]
        },
        {
          "output_type": "stream",
          "name": "stderr",
          "text": [
            "\r[*********************100%%**********************]  1 of 1 completed\n"
          ]
        },
        {
          "output_type": "stream",
          "name": "stdout",
          "text": [
            "['2003-03-31', '2004-03-12', '2005-03-11', '2006-03-16', '2007-02-28', '2008-02-28', '2009-02-27', '2010-03-01', '2011-02-28', '2012-02-29', '2013-03-01', '2014-03-03', '2015-03-02', '2016-02-29', '2017-02-24', '2018-02-26', '2019-02-28', '2020-02-28', '2021-02-26', '2022-02-28', '2023-02-27', '2024-02-27']\n",
            "Completed: 10/198\n"
          ]
        },
        {
          "output_type": "stream",
          "name": "stderr",
          "text": [
            "\r[*********************100%%**********************]  1 of 1 completed\n"
          ]
        },
        {
          "output_type": "stream",
          "name": "stdout",
          "text": [
            "['2014-03-10', '2015-02-27', '2016-02-29', '2017-02-16', '2018-02-20', '2019-02-19', '2020-02-18', '2021-02-26', '2022-02-16', '2023-02-17', '2024-02-16']\n",
            "Completed: 11/198\n"
          ]
        },
        {
          "output_type": "stream",
          "name": "stderr",
          "text": [
            "\r[*********************100%%**********************]  1 of 1 completed\n"
          ]
        },
        {
          "output_type": "stream",
          "name": "stdout",
          "text": [
            "['2002-03-15', '2003-03-26', '2004-03-11', '2005-03-14', '2006-03-13', '2007-02-27', '2008-02-27', '2009-03-11', '2010-03-16', '2011-02-28', '2012-02-24', '2013-02-25', '2014-02-25', '2015-02-24', '2016-02-23', '2017-02-24', '2018-02-26', '2019-02-22', '2020-02-21', '2021-02-19', '2022-02-18', '2023-02-24', '2024-02-22']\n",
            "Completed: 12/198\n"
          ]
        },
        {
          "output_type": "stream",
          "name": "stderr",
          "text": [
            "\r[*********************100%%**********************]  1 of 1 completed\n"
          ]
        },
        {
          "output_type": "stream",
          "name": "stdout",
          "text": [
            "['2002-12-16', '2003-12-29', '2004-12-14', '2005-12-12', '2006-12-08', '2007-11-29', '2008-11-26', '2009-11-25', '2010-11-24', '2011-11-23', '2012-11-21', '2013-11-22', '2014-11-21', '2015-11-20', '2016-11-18', '2017-11-17', '2018-11-16', '2019-11-15', '2020-11-20', '2021-11-19', '2022-11-18', '2023-11-17']\n",
            "Completed: 13/198\n"
          ]
        },
        {
          "output_type": "stream",
          "name": "stderr",
          "text": [
            "\r[*********************100%%**********************]  1 of 1 completed\n"
          ]
        },
        {
          "output_type": "stream",
          "name": "stdout",
          "text": [
            "['2003-03-31', '2004-03-12', '2005-03-15', '2006-03-01', '2007-02-28', '2008-02-27', '2009-02-25', '2010-02-25', '2011-02-24', '2012-02-24', '2013-02-22', '2014-02-21', '2015-02-25', '2016-02-26', '2017-02-24', '2018-02-23', '2019-02-21', '2020-02-20', '2021-02-18', '2022-02-17', '2023-02-14', '2024-02-09']\n",
            "Completed: 14/198\n"
          ]
        },
        {
          "output_type": "stream",
          "name": "stderr",
          "text": [
            "\r[*********************100%%**********************]  1 of 1 completed\n"
          ]
        },
        {
          "output_type": "stream",
          "name": "stdout",
          "text": [
            "['2002-03-28', '2003-03-27', '2004-03-10', '2005-02-28', '2006-03-01', '2007-03-01', '2008-02-29', '2009-02-27', '2010-02-26', '2011-02-28', '2012-02-28', '2013-02-28', '2014-02-28', '2015-02-27', '2016-02-29', '2017-02-23', '2018-02-22', '2019-02-28', '2020-02-27', '2021-02-25', '2022-02-24', '2023-02-23', '2024-02-22']\n",
            "Completed: 15/198\n"
          ]
        },
        {
          "output_type": "stream",
          "name": "stderr",
          "text": [
            "\r[*********************100%%**********************]  1 of 1 completed\n"
          ]
        },
        {
          "output_type": "stream",
          "name": "stdout",
          "text": [
            "['2002-12-20', '2003-12-23', '2004-12-10', '2005-12-16', '2006-12-14', '2007-11-29', '2008-11-24', '2009-11-20', '2010-11-22', '2011-11-18', '2012-11-16', '2013-11-18', '2014-11-14', '2015-11-12', '2016-11-18', '2017-11-17', '2018-11-16', '2019-11-15', '2020-11-12', '2021-11-19', '2022-11-18', '2023-11-17']\n",
            "Completed: 16/198\n"
          ]
        },
        {
          "output_type": "stream",
          "name": "stderr",
          "text": [
            "\r[*********************100%%**********************]  1 of 1 completed\n"
          ]
        },
        {
          "output_type": "stream",
          "name": "stdout",
          "text": [
            "['2002-03-29', '2003-03-28', '2004-03-18', '2005-03-17', '2006-03-01', '2007-02-28', '2008-02-27', '2009-03-04', '2010-03-03', '2011-02-23', '2012-02-29', '2013-02-20', '2014-02-19', '2015-02-25', '2016-02-24', '2017-02-23', '2018-02-21', '2019-02-20', '2020-02-19', '2021-02-24', '2022-02-23', '2023-02-22', '2024-02-21']\n",
            "Completed: 17/198\n"
          ]
        },
        {
          "output_type": "stream",
          "name": "stderr",
          "text": [
            "\r[*********************100%%**********************]  1 of 1 completed\n"
          ]
        },
        {
          "output_type": "stream",
          "name": "stdout",
          "text": [
            "['2002-03-22', '2003-03-21', '2004-03-11', '2005-03-10', '2006-03-02', '2007-03-01', '2008-02-29', '2009-03-02', '2010-03-11', '2011-03-02', '2012-02-28', '2013-03-01', '2014-02-26', '2015-02-27', '2016-02-26', '2017-03-01', '2018-02-28', '2019-03-14', '2020-02-28', '2021-02-25', '2022-02-25', '2023-02-24', '2024-02-26']\n",
            "Completed: 18/198\n"
          ]
        },
        {
          "output_type": "stream",
          "name": "stderr",
          "text": [
            "\r[*********************100%%**********************]  1 of 1 completed\n"
          ]
        },
        {
          "output_type": "stream",
          "name": "stdout",
          "text": [
            "['2003-03-11', '2004-03-05', '2005-03-15', '2006-03-13', '2007-03-01', '2008-02-29', '2009-02-25', '2010-02-24', '2011-02-23', '2012-02-22', '2013-02-28', '2014-02-28', '2015-02-27', '2016-02-25', '2017-02-27', '2018-03-01', '2019-02-27', '2020-02-26', '2021-02-22', '2022-02-25', '2023-02-15', '2024-02-14']\n",
            "Completed: 19/198\n"
          ]
        },
        {
          "output_type": "stream",
          "name": "stderr",
          "text": [
            "\r[*********************100%%**********************]  1 of 1 completed\n"
          ]
        },
        {
          "output_type": "stream",
          "name": "stdout",
          "text": [
            "['2014-02-27', '2015-02-18', '2016-02-26', '2017-02-15', '2018-02-14', '2019-02-13', '2020-02-11', '2021-02-17', '2022-02-16', '2023-02-09', '2024-02-07']\n",
            "Completed: 20/198\n"
          ]
        },
        {
          "output_type": "stream",
          "name": "stderr",
          "text": [
            "\r[*********************100%%**********************]  1 of 1 completed\n"
          ]
        },
        {
          "output_type": "stream",
          "name": "stdout",
          "text": [
            "['2021-02-26', '2022-02-23', '2023-02-22', '2024-02-21']\n",
            "Completed: 21/198\n"
          ]
        },
        {
          "output_type": "stream",
          "name": "stderr",
          "text": [
            "\r[*********************100%%**********************]  1 of 1 completed\n"
          ]
        },
        {
          "output_type": "stream",
          "name": "stdout",
          "text": [
            "['2002-03-29', '2003-03-28', '2004-03-12', '2005-03-15', '2006-03-14', '2007-03-01', '2008-02-28', '2009-03-03', '2010-02-23', '2011-03-09', '2012-03-15', '2013-03-08', '2014-02-28', '2015-02-27', '2016-02-29', '2017-02-24', '2018-02-23', '2019-02-22', '2020-02-21', '2021-02-19', '2022-02-18', '2023-02-17', '2024-02-16']\n",
            "Completed: 22/198\n"
          ]
        },
        {
          "output_type": "stream",
          "name": "stderr",
          "text": [
            "\r[*********************100%%**********************]  1 of 1 completed\n"
          ]
        },
        {
          "output_type": "stream",
          "name": "stdout",
          "text": [
            "['2024-02-07']\n",
            "Completed: 23/198\n"
          ]
        },
        {
          "output_type": "stream",
          "name": "stderr",
          "text": [
            "\r[*********************100%%**********************]  1 of 1 completed\n"
          ]
        },
        {
          "output_type": "stream",
          "name": "stdout",
          "text": [
            "['2013-03-01', '2014-02-28', '2015-02-27', '2016-02-24', '2017-02-27', '2018-02-22', '2019-02-26', '2020-02-13', '2021-02-11', '2022-02-10', '2023-02-14', '2024-02-26']\n",
            "Completed: 24/198\n"
          ]
        },
        {
          "output_type": "stream",
          "name": "stderr",
          "text": [
            "\r[*********************100%%**********************]  1 of 1 completed\n"
          ]
        },
        {
          "output_type": "stream",
          "name": "stdout",
          "text": [
            "['2002-03-28', '2003-03-07', '2004-03-02', '2005-03-02', '2006-02-27', '2007-02-28', '2008-02-28', '2009-02-27', '2010-02-26', '2011-02-28', '2012-02-29', '2013-03-01', '2014-03-03', '2015-03-02', '2016-02-29', '2017-03-01', '2018-02-28', '2019-02-28', '2020-02-28', '2021-02-26', '2022-02-28', '2023-02-28', '2024-02-28']\n",
            "Completed: 25/198\n"
          ]
        },
        {
          "output_type": "stream",
          "name": "stderr",
          "text": [
            "\r[*********************100%%**********************]  1 of 1 completed\n"
          ]
        },
        {
          "output_type": "stream",
          "name": "stdout",
          "text": [
            "['2011-02-08', '2012-03-14', '2013-02-06', '2014-02-07', '2015-02-23', '2016-02-17', '2017-02-09', '2018-02-20', '2019-02-05', '2020-02-05', '2021-02-11', '2022-02-02', '2023-02-01', '2024-01-31']\n",
            "Completed: 26/198\n"
          ]
        },
        {
          "output_type": "stream",
          "name": "stderr",
          "text": [
            "\r[*********************100%%**********************]  1 of 1 completed\n"
          ]
        },
        {
          "output_type": "stream",
          "name": "stdout",
          "text": [
            "['2007-08-23', '2008-08-14', '2009-08-11', '2010-08-12', '2011-08-12', '2012-08-09', '2013-08-08', '2014-08-07', '2015-08-07', '2016-08-09', '2017-08-10', '2018-08-07', '2019-08-06', '2020-08-11', '2021-08-12', '2022-08-12', '2023-08-08']\n"
          ]
        },
        {
          "output_type": "stream",
          "name": "stderr",
          "text": [
            "\r[*********************100%%**********************]  1 of 1 completed"
          ]
        },
        {
          "output_type": "stream",
          "name": "stdout",
          "text": [
            "Completed: 27/198\n",
            "['2022-03-08', '2023-03-14', '2024-02-29']\n",
            "Completed: 28/198\n"
          ]
        },
        {
          "output_type": "stream",
          "name": "stderr",
          "text": [
            "\n",
            "[*********************100%%**********************]  1 of 1 completed\n"
          ]
        },
        {
          "output_type": "stream",
          "name": "stdout",
          "text": [
            "['2016-03-21', '2017-03-15', '2018-02-15', '2019-02-19', '2020-02-21', '2021-02-22', '2022-02-18', '2024-02-27']\n",
            "Completed: 29/198\n"
          ]
        },
        {
          "output_type": "stream",
          "name": "stderr",
          "text": [
            "\r[*********************100%%**********************]  1 of 1 completed\n"
          ]
        },
        {
          "output_type": "stream",
          "name": "stdout",
          "text": [
            "['2003-03-31', '2004-03-15', '2005-03-16', '2006-03-13', '2007-03-01', '2008-02-29', '2009-03-02', '2010-02-26', '2011-03-01', '2012-02-29', '2013-03-01', '2014-02-26', '2015-02-27', '2016-02-29', '2017-02-28', '2018-03-01', '2019-02-28', '2019-03-01', '2020-02-28', '2021-02-25', '2022-02-24', '2023-02-24', '2024-02-23']\n",
            "Completed: 30/198\n"
          ]
        },
        {
          "output_type": "stream",
          "name": "stderr",
          "text": [
            "\r[*********************100%%**********************]  1 of 1 completed\n"
          ]
        },
        {
          "output_type": "stream",
          "name": "stdout",
          "text": [
            "['2002-04-19', '2003-04-21', '2004-04-12', '2005-04-11', '2006-03-29', '2007-03-29', '2008-04-03', '2009-04-02', '2010-03-25', '2011-03-24', '2012-03-22', '2013-03-28', '2014-03-27', '2015-03-26', '2016-03-24', '2017-03-23', '2018-03-22', '2019-03-28', '2020-03-25', '2021-03-24', '2022-03-23', '2023-03-15', '2024-03-13']\n",
            "Completed: 31/198\n"
          ]
        },
        {
          "output_type": "stream",
          "name": "stderr",
          "text": [
            "\r[*********************100%%**********************]  1 of 1 completed\n"
          ]
        },
        {
          "output_type": "stream",
          "name": "stdout",
          "text": [
            "['2014-03-11', '2015-03-02', '2016-02-29', '2017-03-01', '2018-02-27', '2019-02-26', '2020-03-03', '2021-02-25', '2022-02-24', '2023-02-23', '2024-02-23']\n",
            "Completed: 32/198\n"
          ]
        },
        {
          "output_type": "stream",
          "name": "stderr",
          "text": [
            "\r[*********************100%%**********************]  1 of 1 completed\n"
          ]
        },
        {
          "output_type": "stream",
          "name": "stdout",
          "text": [
            "['2002-12-23', '2003-12-12', '2004-11-29', '2005-12-07', '2006-12-06', '2007-12-06', '2008-12-05', '2009-12-03', '2010-11-29', '2011-11-29', '2012-11-21', '2013-11-22', '2014-12-11', '2015-11-30', '2016-12-13', '2017-11-22', '2018-11-21', '2019-11-27', '2020-11-25', '2021-11-24', '2022-11-23', '2023-11-22']\n",
            "Completed: 33/198\n"
          ]
        },
        {
          "output_type": "stream",
          "name": "stderr",
          "text": [
            "\r[*********************100%%**********************]  1 of 1 completed\n"
          ]
        },
        {
          "output_type": "stream",
          "name": "stdout",
          "text": [
            "['2002-12-20', '2003-12-16', '2004-12-01', '2005-11-29', '2006-11-22', '2007-12-10', '2008-11-24', '2009-11-30', '2010-11-24', '2011-11-23', '2012-11-29', '2013-11-26', '2014-11-25', '2015-11-24', '2016-11-22', '2017-11-21', '2018-11-20', '2019-11-22', '2020-11-30', '2021-11-18', '2022-11-17', '2023-11-21']\n",
            "Completed: 34/198\n"
          ]
        },
        {
          "output_type": "stream",
          "name": "stderr",
          "text": [
            "\r[*********************100%%**********************]  1 of 1 completed\n"
          ]
        },
        {
          "output_type": "stream",
          "name": "stdout",
          "text": [
            "['2002-03-28', '2003-03-28', '2004-03-15', '2005-03-14', '2006-03-16', '2007-02-23', '2008-02-26', '2009-02-25', '2010-02-25', '2011-02-24', '2012-02-27', '2013-02-22', '2014-02-27', '2015-02-23', '2016-02-22', '2017-02-22', '2018-02-22', '2019-02-25', '2020-02-24', '2021-02-22', '2022-02-22', '2023-02-21', '2024-02-20']\n",
            "Completed: 35/198\n"
          ]
        },
        {
          "output_type": "stream",
          "name": "stderr",
          "text": [
            "\r[*********************100%%**********************]  1 of 1 completed\n"
          ]
        },
        {
          "output_type": "stream",
          "name": "stdout",
          "text": [
            "['2002-04-26', '2003-04-21', '2004-04-14', '2005-04-25', '2006-04-13', '2007-04-19', '2008-04-16', '2009-04-01', '2010-03-31', '2011-03-30', '2012-03-28', '2013-04-03', '2014-04-02', '2015-04-01', '2016-03-30', '2017-03-29', '2018-04-04', '2019-04-03', '2020-04-01', '2021-03-31', '2022-03-30', '2023-03-29']\n",
            "Completed: 36/198\n"
          ]
        },
        {
          "output_type": "stream",
          "name": "stderr",
          "text": [
            "\r[*********************100%%**********************]  1 of 1 completed\n"
          ]
        },
        {
          "output_type": "stream",
          "name": "stdout",
          "text": [
            "['2003-03-21', '2004-04-27', '2006-02-13', '2006-06-30', '2007-03-01', '2008-02-27', '2009-02-25', '2010-02-24', '2011-02-23', '2012-02-22', '2013-02-21', '2014-02-18', '2015-02-17', '2016-02-18', '2017-02-16', '2018-02-28', '2019-02-20', '2020-02-18', '2021-02-23', '2022-02-23', '2023-03-07', '2024-02-20']\n",
            "Completed: 37/198\n"
          ]
        },
        {
          "output_type": "stream",
          "name": "stderr",
          "text": [
            "\r[*********************100%%**********************]  1 of 1 completed\n"
          ]
        },
        {
          "output_type": "stream",
          "name": "stdout",
          "text": [
            "['2016-02-29', '2017-03-16', '2018-02-28', '2019-03-01', '2020-02-26', '2021-02-25', '2022-02-24', '2023-02-24', '2024-02-22']\n",
            "Completed: 38/198\n"
          ]
        },
        {
          "output_type": "stream",
          "name": "stderr",
          "text": [
            "\r[*********************100%%**********************]  1 of 1 completed\n"
          ]
        },
        {
          "output_type": "stream",
          "name": "stdout",
          "text": [
            "['2011-09-09', '2012-08-31', '2013-08-30', '2014-08-29', '2015-08-27', '2016-08-26', '2017-09-05', '2018-08-23', '2019-08-23', '2020-09-02', '2021-08-30', '2022-09-20', '2023-08-29']\n",
            "Completed: 39/198\n"
          ]
        },
        {
          "output_type": "stream",
          "name": "stderr",
          "text": [
            "\r[*********************100%%**********************]  1 of 1 completed\n"
          ]
        },
        {
          "output_type": "stream",
          "name": "stdout",
          "text": [
            "['2007-03-30', '2008-03-14', '2009-02-26', '2010-02-25', '2011-02-25', '2012-03-01', '2013-03-01', '2014-02-20', '2015-02-19', '2016-02-19', '2017-02-24', '2018-03-01', '2019-02-28', '2020-02-20', '2021-02-23', '2022-02-24', '2023-02-24', '2024-02-26']\n",
            "Completed: 40/198\n"
          ]
        },
        {
          "output_type": "stream",
          "name": "stderr",
          "text": [
            "\r[*********************100%%**********************]  1 of 1 completed\n"
          ]
        },
        {
          "output_type": "stream",
          "name": "stdout",
          "text": [
            "['2012-02-17', '2013-02-11', '2014-02-10', '2015-02-09', '2016-02-08', '2017-02-06', '2018-02-05', '2019-02-04', '2020-02-03', '2021-02-08', '2022-02-07', '2023-02-08', '2024-02-06']\n",
            "Completed: 41/198\n"
          ]
        },
        {
          "output_type": "stream",
          "name": "stderr",
          "text": [
            "\r[*********************100%%**********************]  1 of 1 completed\n"
          ]
        },
        {
          "output_type": "stream",
          "name": "stdout",
          "text": [
            "['2003-03-17', '2004-03-09', '2005-03-03', '2006-03-01', '2007-02-28', '2008-02-28', '2009-02-26', '2010-02-25', '2011-02-24', '2012-02-23', '2013-02-22', '2014-02-21', '2015-02-20', '2016-02-25', '2017-02-23', '2018-02-22', '2019-02-22', '2020-02-21', '2021-02-25', '2022-02-24', '2023-02-23', '2024-02-26']\n",
            "Completed: 42/198\n"
          ]
        },
        {
          "output_type": "stream",
          "name": "stderr",
          "text": [
            "\r[*********************100%%**********************]  1 of 1 completed\n"
          ]
        },
        {
          "output_type": "stream",
          "name": "stdout",
          "text": [
            "['2002-03-21', '2003-03-20', '2004-03-03', '2005-03-15', '2006-03-10', '2007-03-01', '2008-02-27', '2009-02-20', '2010-02-19', '2011-02-22', '2012-02-17', '2013-02-19', '2014-02-18', '2015-02-17', '2016-02-17', '2017-02-17', '2018-02-16', '2019-02-15', '2020-02-14', '2021-02-12', '2022-02-16', '2023-02-16', '2024-02-22']\n",
            "Completed: 43/198\n"
          ]
        },
        {
          "output_type": "stream",
          "name": "stderr",
          "text": [
            "\r[*********************100%%**********************]  1 of 1 completed\n"
          ]
        },
        {
          "output_type": "stream",
          "name": "stdout",
          "text": [
            "['2002-02-19', '2003-02-05', '2004-01-29', '2005-01-27', '2006-01-27', '2007-01-29', '2008-01-28', '2009-01-28', '2010-01-28', '2011-01-27', '2012-01-27', '2013-01-25', '2014-01-29', '2015-01-29', '2016-01-28', '2017-01-25', '2018-01-25', '2019-01-25', '2020-01-28', '2021-01-28', '2022-01-27', '2023-01-26', '2024-01-25']\n",
            "Completed: 44/198\n"
          ]
        },
        {
          "output_type": "stream",
          "name": "stderr",
          "text": [
            "\r[*********************100%%**********************]  1 of 1 completed\n"
          ]
        },
        {
          "output_type": "stream",
          "name": "stdout",
          "text": [
            "['2002-03-28', '2003-03-03', '2004-03-15', '2005-03-11', '2006-03-08', '2007-03-01', '2008-02-22', '2009-02-12', '2010-02-10', '2011-02-10', '2012-02-07', '2013-02-08', '2014-02-05', '2015-02-05', '2016-02-04', '2017-02-09', '2018-02-07', '2019-02-06', '2020-02-18', '2021-02-09', '2022-02-09', '2023-02-08', '2024-02-07']\n",
            "Completed: 45/198\n"
          ]
        },
        {
          "output_type": "stream",
          "name": "stderr",
          "text": [
            "\r[*********************100%%**********************]  1 of 1 completed\n"
          ]
        },
        {
          "output_type": "stream",
          "name": "stdout",
          "text": [
            "['2002-03-22', '2003-03-26', '2004-03-25', '2005-03-18', '2006-03-30', '2007-03-30', '2008-03-28', '2009-03-27', '2010-03-26', '2011-03-23', '2012-02-28', '2013-03-01', '2014-03-04', '2015-02-27', '2016-02-26', '2017-02-27', '2018-02-26', '2019-02-25', '2020-02-26', '2021-02-26', '2022-02-28', '2023-02-28', '2024-02-26']\n",
            "Completed: 46/198\n"
          ]
        },
        {
          "output_type": "stream",
          "name": "stderr",
          "text": [
            "\r[*********************100%%**********************]  1 of 1 completed\n"
          ]
        },
        {
          "output_type": "stream",
          "name": "stdout",
          "text": [
            "['2002-03-29', '2003-03-26', '2004-03-15', '2005-03-09', '2006-03-02', '2007-03-01', '2008-02-29', '2009-02-27', '2010-02-26', '2011-02-28', '2012-02-28', '2013-02-27', '2014-02-27', '2015-02-26', '2016-02-24', '2017-02-24', '2018-02-22', '2019-02-21', '2020-02-20', '2021-02-17', '2022-02-16', '2024-02-12']\n",
            "Completed: 47/198\n"
          ]
        },
        {
          "output_type": "stream",
          "name": "stderr",
          "text": [
            "\r[*********************100%%**********************]  1 of 1 completed\n"
          ]
        },
        {
          "output_type": "stream",
          "name": "stdout",
          "text": [
            "['2013-09-17', '2014-08-28', '2015-08-17', '2016-08-18', '2017-08-23', '2018-08-21', '2019-08-28', '2020-08-27', '2021-08-26', '2022-08-25', '2023-08-22']\n",
            "Completed: 48/198\n"
          ]
        },
        {
          "output_type": "stream",
          "name": "stderr",
          "text": [
            "\r[*********************100%%**********************]  1 of 1 completed\n"
          ]
        },
        {
          "output_type": "stream",
          "name": "stdout",
          "text": [
            "['2022-04-11', '2023-04-03']\n",
            "Completed: 49/198\n"
          ]
        },
        {
          "output_type": "stream",
          "name": "stderr",
          "text": [
            "\r[*********************100%%**********************]  1 of 1 completed\n"
          ]
        },
        {
          "output_type": "stream",
          "name": "stdout",
          "text": [
            "['2002-03-18', '2003-03-28', '2004-03-11', '2005-03-03', '2006-02-28', '2007-02-27', '2008-02-26', '2009-02-26', '2010-02-24', '2011-03-01', '2012-02-24', '2013-02-26', '2014-02-25', '2015-02-26', '2016-02-29', '2017-02-27', '2018-02-27', '2019-02-28', '2020-02-28', '2021-02-25', '2022-02-25', '2023-02-28', '2024-02-26']\n",
            "Completed: 50/198\n"
          ]
        },
        {
          "output_type": "stream",
          "name": "stderr",
          "text": [
            "\r[*********************100%%**********************]  1 of 1 completed\n"
          ]
        },
        {
          "output_type": "stream",
          "name": "stdout",
          "text": [
            "['2003-03-03', '2004-03-01', '2005-03-01', '2006-03-03', '2007-02-28', '2008-02-29', '2009-02-27', '2010-02-26', '2011-02-28', '2012-02-28', '2013-02-28', '2014-02-24', '2015-02-23', '2016-02-19', '2017-02-17', '2018-02-22', '2019-02-14', '2020-02-14', '2021-02-18', '2022-02-18', '2023-02-17', '2024-02-16']\n",
            "Completed: 51/198\n"
          ]
        },
        {
          "output_type": "stream",
          "name": "stderr",
          "text": [
            "\r[*********************100%%**********************]  1 of 1 completed\n"
          ]
        },
        {
          "output_type": "stream",
          "name": "stdout",
          "text": [
            "['2017-03-16', '2018-03-01', '2019-02-28', '2020-03-02', '2021-02-25', '2022-02-25', '2023-02-24']\n",
            "Completed: 52/198\n"
          ]
        },
        {
          "output_type": "stream",
          "name": "stderr",
          "text": [
            "\r[*********************100%%**********************]  1 of 1 completed\n"
          ]
        },
        {
          "output_type": "stream",
          "name": "stdout",
          "text": [
            "['2014-02-25', '2015-02-19', '2016-02-18', '2017-02-23', '2018-02-22', '2019-02-20', '2020-02-20', '2021-02-26', '2022-02-24', '2023-02-23', '2024-02-22']\n",
            "Completed: 53/198\n"
          ]
        },
        {
          "output_type": "stream",
          "name": "stderr",
          "text": [
            "\r[*********************100%%**********************]  1 of 1 completed\n"
          ]
        },
        {
          "output_type": "stream",
          "name": "stdout",
          "text": [
            "['2002-03-27', '2003-03-25', '2004-03-30', '2005-03-15', '2006-03-15', '2007-03-01', '2008-02-29', '2009-03-02', '2010-03-01', '2011-03-01', '2012-02-29', '2013-03-01', '2014-03-03', '2015-03-02', '2016-02-29', '2017-03-01', '2018-03-01', '2019-03-01', '2020-03-02', '2021-02-24', '2022-03-01', '2023-02-27', '2024-02-20']\n",
            "Completed: 54/198\n"
          ]
        },
        {
          "output_type": "stream",
          "name": "stderr",
          "text": [
            "\r[*********************100%%**********************]  1 of 1 completed\n"
          ]
        },
        {
          "output_type": "stream",
          "name": "stdout",
          "text": [
            "['2008-02-27', '2009-01-28', '2010-01-28', '2011-01-26', '2012-01-26', '2013-01-25', '2014-02-25', '2015-02-25', '2016-02-24', '2017-02-23', '2018-02-21', '2019-02-20', '2020-02-26', '2021-02-17', '2022-02-24', '2023-02-23']\n",
            "Completed: 55/198\n"
          ]
        },
        {
          "output_type": "stream",
          "name": "stderr",
          "text": [
            "\r[*********************100%%**********************]  1 of 1 completed\n"
          ]
        },
        {
          "output_type": "stream",
          "name": "stdout",
          "text": [
            "['2002-03-28', '2003-03-27', '2004-03-12', '2005-02-25', '2006-02-24', '2007-02-23', '2008-02-21', '2009-03-02', '2010-02-24', '2011-02-18', '2012-02-17', '2013-02-15', '2014-02-13', '2015-02-23', '2016-02-12', '2017-02-17', '2018-02-09', '2019-02-08', '2020-02-14', '2021-02-23', '2022-02-11', '2023-02-23', '2024-02-29']\n",
            "Completed: 56/198\n"
          ]
        },
        {
          "output_type": "stream",
          "name": "stderr",
          "text": [
            "\r[*********************100%%**********************]  1 of 1 completed\n"
          ]
        },
        {
          "output_type": "stream",
          "name": "stdout",
          "text": [
            "['2002-04-01', '2003-03-31', '2004-03-15', '2005-03-16', '2006-03-15', '2007-03-15', '2008-03-14', '2009-03-16', '2010-03-16', '2011-03-15', '2012-03-15', '2013-03-18', '2014-03-14', '2015-03-13', '2016-03-11', '2017-03-07', '2018-03-01', '2019-02-26', '2020-02-28', '2021-02-26', '2022-02-25', '2024-02-27']\n",
            "Completed: 57/198\n"
          ]
        },
        {
          "output_type": "stream",
          "name": "stderr",
          "text": [
            "\r[*********************100%%**********************]  1 of 1 completed\n"
          ]
        },
        {
          "output_type": "stream",
          "name": "stdout",
          "text": [
            "['2002-12-18', '2003-12-18', '2004-12-08', '2005-12-07', '2006-12-08', '2007-12-07', '2008-12-09', '2009-12-08', '2010-12-07', '2011-12-06', '2012-11-27', '2013-11-26', '2014-11-25', '2015-11-23', '2016-11-22', '2017-11-28', '2018-11-28', '2019-11-27', '2020-11-25', '2021-11-23', '2022-11-22', '2023-11-28']\n"
          ]
        },
        {
          "output_type": "stream",
          "name": "stderr",
          "text": [
            "\r[*********************100%%**********************]  1 of 1 completed"
          ]
        },
        {
          "output_type": "stream",
          "name": "stdout",
          "text": [
            "Completed: 58/198\n",
            "['2021-03-09', '2022-03-01', '2023-02-28', '2024-02-27']\n"
          ]
        },
        {
          "output_type": "stream",
          "name": "stderr",
          "text": [
            "\n"
          ]
        },
        {
          "output_type": "stream",
          "name": "stdout",
          "text": [
            "Completed: 59/198\n"
          ]
        },
        {
          "output_type": "stream",
          "name": "stderr",
          "text": [
            "\r[*********************100%%**********************]  1 of 1 completed\n"
          ]
        },
        {
          "output_type": "stream",
          "name": "stdout",
          "text": [
            "['2002-03-06', '2003-03-31', '2004-02-27', '2005-03-02', '2006-02-28', '2007-03-01', '2008-02-28', '2009-02-27', '2010-03-02', '2011-03-02', '2012-02-29', '2013-02-28', '2014-02-28', '2015-02-26', '2016-02-23', '2017-02-23', '2018-02-22', '2019-02-21', '2020-02-26', '2021-02-25', '2022-02-23', '2023-02-22', '2024-02-22']\n",
            "Completed: 60/198\n"
          ]
        },
        {
          "output_type": "stream",
          "name": "stderr",
          "text": [
            "\r[*********************100%%**********************]  1 of 1 completed\n"
          ]
        },
        {
          "output_type": "stream",
          "name": "stdout",
          "text": [
            "['2013-03-22', '2014-02-28', '2015-02-27', '2016-02-26', '2017-02-22', '2018-02-23', '2019-02-22', '2020-02-26', '2021-02-19', '2022-02-18', '2023-02-21', '2024-02-16']\n",
            "Completed: 61/198\n"
          ]
        },
        {
          "output_type": "stream",
          "name": "stderr",
          "text": [
            "\r[*********************100%%**********************]  1 of 1 completed\n"
          ]
        },
        {
          "output_type": "stream",
          "name": "stdout",
          "text": [
            "['2002-07-22', '2003-08-01', '2004-07-20', '2005-07-22', '2006-07-21', '2007-07-20', '2008-07-18', '2009-07-20', '2010-07-16', '2011-07-15', '2012-07-20', '2013-07-22', '2014-07-22', '2015-07-21', '2016-07-22', '2017-07-21', '2018-07-20', '2019-07-24', '2020-07-17', '2021-07-16', '2022-07-15', '2023-07-14']\n",
            "Completed: 62/198\n"
          ]
        },
        {
          "output_type": "stream",
          "name": "stderr",
          "text": [
            "\r[*********************100%%**********************]  1 of 1 completed\n"
          ]
        },
        {
          "output_type": "stream",
          "name": "stdout",
          "text": [
            "['2002-03-29', '2003-03-28', '2004-03-15', '2005-03-16', '2006-03-16', '2007-03-14', '2008-03-10', '2009-03-13', '2010-03-08', '2011-03-09', '2012-03-08', '2013-03-07', '2014-03-05', '2015-03-05', '2016-03-04', '2017-03-03', '2018-03-09', '2019-03-08', '2020-02-27', '2021-02-25', '2022-02-25', '2023-02-24', '2024-03-01']\n",
            "Completed: 63/198\n"
          ]
        },
        {
          "output_type": "stream",
          "name": "stderr",
          "text": [
            "\r[*********************100%%**********************]  1 of 1 completed\n"
          ]
        },
        {
          "output_type": "stream",
          "name": "stdout",
          "text": [
            "['2002-03-29', '2003-03-31', '2004-03-15', '2005-03-31', '2006-03-14', '2007-03-01', '2008-02-29', '2009-02-27', '2010-02-26', '2011-02-25', '2012-02-27', '2013-02-25', '2014-02-26', '2015-03-02', '2016-02-26', '2017-02-24', '2018-02-22', '2019-02-21', '2020-02-20', '2021-02-19', '2022-02-25', '2023-02-23', '2024-02-23']\n",
            "Completed: 64/198\n"
          ]
        },
        {
          "output_type": "stream",
          "name": "stderr",
          "text": [
            "\r[*********************100%%**********************]  1 of 1 completed\n"
          ]
        },
        {
          "output_type": "stream",
          "name": "stdout",
          "text": [
            "['2002-01-25', '2003-01-24', '2004-01-23', '2005-01-13', '2006-01-13', '2007-01-12', '2007-12-27', '2008-12-23', '2009-12-16', '2010-12-21', '2011-12-21', '2012-12-19', '2013-12-18', '2014-12-17', '2015-12-16', '2016-12-21', '2017-12-20', '2018-12-07', '2019-12-06', '2020-12-04', '2021-12-10', '2022-12-06', '2023-12-06']\n",
            "Completed: 65/198\n"
          ]
        },
        {
          "output_type": "stream",
          "name": "stderr",
          "text": [
            "\r[*********************100%%**********************]  1 of 1 completed\n"
          ]
        },
        {
          "output_type": "stream",
          "name": "stdout",
          "text": [
            "['2017-03-02', '2018-03-01', '2019-02-28', '2020-02-27', '2021-02-26', '2022-02-18', '2023-02-23', '2024-02-28']\n",
            "Completed: 66/198\n"
          ]
        },
        {
          "output_type": "stream",
          "name": "stderr",
          "text": [
            "\r[*********************100%%**********************]  1 of 1 completed\n"
          ]
        },
        {
          "output_type": "stream",
          "name": "stdout",
          "text": [
            "['2013-02-01', '2014-01-31', '2015-01-29', '2016-01-28', '2017-02-03', '2018-02-01', '2019-01-31', '2020-01-30', '2021-01-28', '2022-02-03', '2023-02-02', '2024-02-02']\n",
            "Completed: 67/198\n"
          ]
        },
        {
          "output_type": "stream",
          "name": "stderr",
          "text": [
            "\r[*********************100%%**********************]  1 of 1 completed\n"
          ]
        },
        {
          "output_type": "stream",
          "name": "stdout",
          "text": [
            "['2003-02-28', '2004-02-27', '2005-03-10', '2006-02-28', '2007-03-01', '2008-02-22', '2009-02-17', '2010-02-17', '2011-02-16', '2012-02-16', '2013-02-27', '2014-02-18', '2015-02-24', '2016-02-26', '2017-02-22', '2018-02-23', '2019-02-21', '2020-02-20', '2021-02-22', '2022-02-28', '2023-02-21', '2024-02-22']\n",
            "Completed: 68/198\n"
          ]
        },
        {
          "output_type": "stream",
          "name": "stderr",
          "text": [
            "\r[*********************100%%**********************]  1 of 1 completed\n"
          ]
        },
        {
          "output_type": "stream",
          "name": "stdout",
          "text": [
            "['2003-03-28', '2004-03-30', '2005-03-16', '2006-03-15', '2007-03-13', '2008-03-14', '2009-03-16', '2010-03-15', '2011-03-15', '2012-03-15', '2013-03-18', '2014-03-14', '2015-03-02', '2016-02-29', '2017-03-01', '2018-03-01', '2019-03-01', '2020-03-02', '2021-03-01', '2022-03-01', '2023-03-01', '2024-02-29']\n",
            "Completed: 69/198\n"
          ]
        },
        {
          "output_type": "stream",
          "name": "stderr",
          "text": [
            "\r[*********************100%%**********************]  1 of 1 completed\n"
          ]
        },
        {
          "output_type": "stream",
          "name": "stdout",
          "text": [
            "['2002-03-15', '2003-03-19', '2004-03-15', '2005-03-16', '2006-03-15', '2007-03-12', '2008-03-13', '2009-03-04', '2010-03-02', '2011-03-14', '2012-03-12', '2013-02-27', '2014-02-26', '2015-02-25', '2016-02-24', '2017-02-28', '2018-02-28', '2019-02-27', '2020-02-26', '2021-02-24', '2022-02-23', '2023-02-22', '2024-02-21']\n",
            "Completed: 70/198\n"
          ]
        },
        {
          "output_type": "stream",
          "name": "stderr",
          "text": [
            "\r[*********************100%%**********************]  1 of 1 completed\n"
          ]
        },
        {
          "output_type": "stream",
          "name": "stdout",
          "text": [
            "['2003-03-21', '2004-03-12', '2005-03-08', '2006-03-01', '2007-03-01', '2008-02-29', '2009-03-02', '2010-03-01', '2011-02-28', '2012-02-27', '2013-02-26', '2014-02-27', '2015-02-26', '2016-02-25', '2017-02-24', '2018-02-27', '2019-02-25', '2020-02-24', '2021-02-22', '2022-02-22', '2023-02-15', '2024-02-14']\n",
            "Completed: 71/198\n"
          ]
        },
        {
          "output_type": "stream",
          "name": "stderr",
          "text": [
            "\r[*********************100%%**********************]  1 of 1 completed\n"
          ]
        },
        {
          "output_type": "stream",
          "name": "stdout",
          "text": [
            "['2002-01-25', '2003-01-27', '2004-01-21', '2005-01-14', '2006-01-13', '2007-01-12', '2007-12-21', '2008-12-19', '2009-12-18', '2010-12-17', '2011-12-16', '2012-12-17', '2013-12-16', '2014-12-15', '2015-12-15', '2016-12-15', '2017-12-15', '2018-12-14', '2019-12-13', '2020-12-18', '2021-12-17', '2022-12-19', '2023-12-20']\n",
            "Completed: 72/198\n"
          ]
        },
        {
          "output_type": "stream",
          "name": "stderr",
          "text": [
            "\r[*********************100%%**********************]  1 of 1 completed\n"
          ]
        },
        {
          "output_type": "stream",
          "name": "stdout",
          "text": [
            "['2002-03-29', '2003-03-27', '2004-03-12', '2005-03-04', '2006-03-02', '2007-02-28', '2008-02-28', '2009-02-26', '2010-02-16', '2011-02-18', '2012-02-15', '2013-02-12', '2014-02-13', '2015-02-13', '2016-02-23', '2017-02-21', '2018-02-16', '2019-02-15', '2020-02-14', '2021-02-12', '2022-02-16', '2023-02-16', '2024-02-15']\n",
            "Completed: 73/198\n"
          ]
        },
        {
          "output_type": "stream",
          "name": "stderr",
          "text": [
            "\r[*********************100%%**********************]  1 of 1 completed\n"
          ]
        },
        {
          "output_type": "stream",
          "name": "stdout",
          "text": [
            "['2012-11-28', '2013-12-05', '2014-12-09', '2015-11-24', '2016-11-17', '2017-11-15', '2018-11-16', '2019-11-26', '2020-11-18', '2021-11-15', '2022-11-14', '2023-11-13']\n",
            "Completed: 74/198\n"
          ]
        },
        {
          "output_type": "stream",
          "name": "stderr",
          "text": [
            "\r[*********************100%%**********************]  1 of 1 completed\n"
          ]
        },
        {
          "output_type": "stream",
          "name": "stdout",
          "text": [
            "['2002-04-26', '2003-04-15', '2004-04-08', '2005-04-13', '2006-04-07', '2007-04-03', '2008-04-01', '2009-03-31', '2010-03-30', '2011-03-29', '2012-04-02', '2013-04-02', '2014-03-31', '2015-03-31', '2016-03-29', '2017-04-04', '2018-04-02', '2019-04-02', '2020-03-23', '2021-03-22', '2022-03-21', '2023-03-27', '2024-03-25']\n",
            "Completed: 75/198\n"
          ]
        },
        {
          "output_type": "stream",
          "name": "stderr",
          "text": [
            "\r[*********************100%%**********************]  1 of 1 completed\n"
          ]
        },
        {
          "output_type": "stream",
          "name": "stdout",
          "text": [
            "['2002-04-01', '2003-03-24', '2004-03-12', '2005-03-30', '2006-03-15', '2007-02-28', '2008-03-14', '2009-02-26', '2010-03-01', '2011-02-28', '2012-02-29', '2013-02-27', '2014-02-26', '2015-02-24', '2016-02-26', '2017-02-27', '2018-02-28', '2019-02-27', '2020-02-25', '2021-02-25', '2022-02-25', '2023-02-23', '2024-02-27']\n"
          ]
        },
        {
          "output_type": "stream",
          "name": "stderr",
          "text": [
            "\r[*********************100%%**********************]  1 of 1 completed"
          ]
        },
        {
          "output_type": "stream",
          "name": "stdout",
          "text": [
            "Completed: 76/198\n",
            "['2019-02-25', '2020-02-21', '2021-02-19', '2022-02-18', '2023-02-23', '2024-02-16']\n"
          ]
        },
        {
          "output_type": "stream",
          "name": "stderr",
          "text": [
            "\n"
          ]
        },
        {
          "output_type": "stream",
          "name": "stdout",
          "text": [
            "Completed: 77/198\n"
          ]
        },
        {
          "output_type": "stream",
          "name": "stderr",
          "text": [
            "\r[*********************100%%**********************]  1 of 1 completed\n"
          ]
        },
        {
          "output_type": "stream",
          "name": "stdout",
          "text": [
            "['2002-05-24', '2003-05-27', '2004-05-26', '2005-05-27', '2006-05-12', '2007-05-14', '2008-05-12', '2009-05-12', '2010-05-12', '2011-05-12', '2012-05-10', '2013-04-29', '2014-04-28', '2015-04-22', '2016-04-21', '2017-04-20', '2018-05-15', '2019-05-17', '2020-04-29', '2021-04-23', '2022-04-22', '2023-04-25']\n",
            "Completed: 78/198\n"
          ]
        },
        {
          "output_type": "stream",
          "name": "stderr",
          "text": [
            "\r[*********************100%%**********************]  1 of 1 completed\n"
          ]
        },
        {
          "output_type": "stream",
          "name": "stdout",
          "text": [
            "['2023-02-28', '2024-02-21']\n",
            "Completed: 79/198\n"
          ]
        },
        {
          "output_type": "stream",
          "name": "stderr",
          "text": [
            "\r[*********************100%%**********************]  1 of 1 completed\n"
          ]
        },
        {
          "output_type": "stream",
          "name": "stdout",
          "text": [
            "['2003-02-27', '2004-03-01', '2005-02-25', '2006-02-24', '2007-02-23', '2008-02-22', '2009-02-20', '2010-02-24', '2011-02-23', '2012-02-29', '2013-02-28', '2014-02-28', '2015-03-02', '2016-02-26', '2017-02-28', '2018-02-28', '2019-02-28', '2020-02-28', '2021-02-26', '2022-02-25', '2023-02-24']\n",
            "Completed: 80/198\n"
          ]
        },
        {
          "output_type": "stream",
          "name": "stderr",
          "text": [
            "\r[*********************100%%**********************]  1 of 1 completed\n"
          ]
        },
        {
          "output_type": "stream",
          "name": "stdout",
          "text": [
            "['2002-04-01', '2003-03-26', '2004-03-10', '2005-03-29', '2006-03-24', '2007-02-28', '2008-02-27', '2009-02-26', '2010-02-16', '2011-02-15', '2012-02-13', '2013-02-12', '2014-02-24', '2015-02-19', '2016-02-22', '2017-02-22', '2018-02-26', '2019-02-25', '2020-03-10', '2021-02-22', '2022-02-22', '2023-02-24', '2024-02-23']\n",
            "Completed: 81/198\n"
          ]
        },
        {
          "output_type": "stream",
          "name": "stderr",
          "text": [
            "\r[*********************100%%**********************]  1 of 1 completed\n"
          ]
        },
        {
          "output_type": "stream",
          "name": "stdout",
          "text": [
            "['2003-01-27', '2004-01-28', '2005-01-14', '2006-01-17', '2006-12-26', '2007-12-26', '2008-12-19', '2009-12-21', '2010-12-17', '2011-12-16', '2012-12-20', '2013-12-20', '2014-12-19', '2015-12-18', '2016-12-22', '2017-12-22', '2018-12-21', '2019-12-20', '2020-12-11', '2021-12-10', '2022-12-09', '2023-12-08']\n",
            "Completed: 82/198\n"
          ]
        },
        {
          "output_type": "stream",
          "name": "stderr",
          "text": [
            "\r[*********************100%%**********************]  1 of 1 completed\n"
          ]
        },
        {
          "output_type": "stream",
          "name": "stdout",
          "text": [
            "['2015-03-30', '2016-03-30', '2017-03-24', '2018-03-22', '2019-03-20', '2020-03-19', '2021-03-19', '2022-03-16', '2023-03-13', '2024-03-11']\n",
            "Completed: 83/198\n"
          ]
        },
        {
          "output_type": "stream",
          "name": "stderr",
          "text": [
            "\r[*********************100%%**********************]  1 of 1 completed\n"
          ]
        },
        {
          "output_type": "stream",
          "name": "stdout",
          "text": [
            "['2003-03-27', '2004-03-11', '2005-03-10', '2006-02-28', '2007-02-28', '2008-02-29', '2009-02-20', '2010-02-26', '2011-02-25', '2012-02-27', '2013-02-27', '2014-02-27', '2015-02-26', '2016-02-25', '2017-02-24', '2018-02-23', '2019-02-25', '2020-02-21', '2021-02-23', '2022-02-23', '2023-02-24', '2024-02-22']\n",
            "Completed: 84/198\n"
          ]
        },
        {
          "output_type": "stream",
          "name": "stderr",
          "text": [
            "\r[*********************100%%**********************]  1 of 1 completed\n"
          ]
        },
        {
          "output_type": "stream",
          "name": "stdout",
          "text": [
            "['2002-02-08', '2003-02-07', '2004-02-17', '2005-02-28', '2006-02-23', '2007-02-21', '2008-02-22', '2009-02-25', '2010-02-26', '2011-02-25', '2012-02-22', '2013-02-19', '2014-02-20', '2015-02-19', '2016-02-17', '2017-02-15', '2018-02-14', '2019-02-13', '2020-02-19', '2021-02-12', '2022-02-16', '2023-02-15', '2024-02-14']\n",
            "Completed: 85/198\n"
          ]
        },
        {
          "output_type": "stream",
          "name": "stderr",
          "text": [
            "\r[*********************100%%**********************]  1 of 1 completed\n"
          ]
        },
        {
          "output_type": "stream",
          "name": "stdout",
          "text": [
            "['2003-03-26', '2004-03-12', '2005-03-15', '2006-05-01', '2007-03-05', '2008-02-26', '2009-02-24', '2010-02-24', '2011-02-23', '2012-02-22', '2013-02-27', '2014-02-25', '2015-02-25', '2016-02-24', '2017-02-22', '2018-02-21', '2019-02-20', '2020-02-20', '2021-02-17', '2022-02-23', '2023-02-22', '2024-02-21']\n",
            "Completed: 86/198\n"
          ]
        },
        {
          "output_type": "stream",
          "name": "stderr",
          "text": [
            "\r[*********************100%%**********************]  1 of 1 completed\n"
          ]
        },
        {
          "output_type": "stream",
          "name": "stdout",
          "text": [
            "['2002-03-27', '2003-03-25', '2004-03-11', '2005-03-14', '2006-03-13', '2007-02-23', '2008-02-27', '2009-02-26', '2010-02-25', '2011-02-24', '2012-02-28', '2013-02-26', '2014-02-25', '2015-03-02', '2016-03-01', '2017-02-28', '2018-02-27', '2019-02-26', '2020-03-03', '2021-02-22', '2022-02-28', '2023-02-27', '2024-02-28']\n",
            "Completed: 87/198\n"
          ]
        },
        {
          "output_type": "stream",
          "name": "stderr",
          "text": [
            "\r[*********************100%%**********************]  1 of 1 completed\n"
          ]
        },
        {
          "output_type": "stream",
          "name": "stdout",
          "text": [
            "['2002-03-28', '2003-03-27', '2004-03-12', '2005-03-16', '2006-03-16', '2007-03-16', '2008-03-14', '2009-03-16', '2010-03-15', '2011-02-25', '2012-02-29', '2013-02-22', '2014-02-28', '2015-02-12', '2016-02-17', '2017-03-01', '2018-02-20', '2019-02-05', '2020-02-03', '2021-02-01', '2022-02-28', '2023-02-06', '2024-02-05']\n",
            "Completed: 88/198\n"
          ]
        },
        {
          "output_type": "stream",
          "name": "stderr",
          "text": [
            "\r[*********************100%%**********************]  1 of 1 completed\n"
          ]
        },
        {
          "output_type": "stream",
          "name": "stdout",
          "text": [
            "['2003-03-27', '2004-03-11', '2005-03-11', '2006-03-10', '2007-02-28', '2008-02-28', '2009-02-25', '2010-03-01', '2011-02-24', '2012-02-29', '2013-02-27', '2014-02-21', '2015-02-20', '2016-02-22', '2017-02-17', '2018-02-16', '2019-02-22', '2020-02-21', '2021-02-19', '2022-02-16', '2023-02-15', '2024-02-12']\n",
            "Completed: 89/198\n"
          ]
        },
        {
          "output_type": "stream",
          "name": "stderr",
          "text": [
            "\r[*********************100%%**********************]  1 of 1 completed\n"
          ]
        },
        {
          "output_type": "stream",
          "name": "stdout",
          "text": [
            "['2003-03-25', '2004-03-10', '2005-03-09', '2006-03-07', '2007-02-28', '2008-02-26', '2009-02-25', '2010-02-24', '2011-02-23', '2012-02-29', '2013-02-27', '2014-02-19', '2015-02-18', '2016-02-17', '2017-02-22', '2018-02-21', '2019-02-20', '2020-02-19', '2021-02-17', '2022-02-16', '2023-02-22', '2024-02-21']\n",
            "Completed: 90/198\n"
          ]
        },
        {
          "output_type": "stream",
          "name": "stderr",
          "text": [
            "\r[*********************100%%**********************]  1 of 1 completed\n"
          ]
        },
        {
          "output_type": "stream",
          "name": "stdout",
          "text": [
            "['2002-03-28', '2003-03-27', '2004-03-12', '2005-02-23', '2006-02-22', '2007-02-22', '2008-02-25', '2009-02-25', '2010-02-25', '2011-02-28', '2012-02-22', '2013-02-22', '2014-02-24', '2015-02-20', '2016-02-16', '2017-03-02', '2018-03-01', '2019-02-22', '2020-02-19', '2021-02-17', '2022-02-16', '2023-02-21', '2024-02-20']\n",
            "Completed: 91/198\n"
          ]
        },
        {
          "output_type": "stream",
          "name": "stderr",
          "text": [
            "\r[*********************100%%**********************]  1 of 1 completed\n"
          ]
        },
        {
          "output_type": "stream",
          "name": "stdout",
          "text": [
            "['2011-03-18', '2012-02-29', '2013-02-12', '2014-02-20', '2015-02-17', '2016-02-16', '2017-02-17', '2018-02-22', '2019-02-21', '2020-02-20', '2021-02-25', '2022-02-24', '2023-02-23', '2024-02-22']\n",
            "Completed: 92/198\n"
          ]
        },
        {
          "output_type": "stream",
          "name": "stderr",
          "text": [
            "\r[*********************100%%**********************]  1 of 1 completed\n"
          ]
        },
        {
          "output_type": "stream",
          "name": "stdout",
          "text": [
            "['2002-10-11', '2003-10-09', '2004-10-12', '2005-10-11', '2006-10-11', '2007-09-26', '2008-10-01', '2009-09-30', '2010-09-29', '2011-09-28', '2012-09-27', '2013-09-26', '2014-09-24', '2015-09-29', '2016-09-22', '2017-09-27', '2018-09-27', '2019-09-26', '2020-09-24', '2021-09-23', '2022-09-22', '2023-09-21']\n",
            "Completed: 93/198\n"
          ]
        },
        {
          "output_type": "stream",
          "name": "stderr",
          "text": [
            "\r[*********************100%%**********************]  1 of 1 completed\n"
          ]
        },
        {
          "output_type": "stream",
          "name": "stdout",
          "text": [
            "['2003-03-28', '2004-03-15', '2005-03-14', '2006-03-06', '2007-02-28', '2008-02-29', '2009-02-26', '2010-02-26', '2011-02-28', '2012-02-22', '2013-02-20', '2014-02-24', '2015-02-25', '2016-02-29', '2017-02-28', '2018-02-22', '2019-02-22', '2020-02-20', '2021-02-19', '2022-02-18', '2023-02-16', '2024-02-16']\n",
            "Completed: 94/198\n"
          ]
        },
        {
          "output_type": "stream",
          "name": "stderr",
          "text": [
            "\r[*********************100%%**********************]  1 of 1 completed\n"
          ]
        },
        {
          "output_type": "stream",
          "name": "stdout",
          "text": [
            "['2002-03-28', '2003-03-31', '2004-02-26', '2005-03-02', '2006-03-15', '2007-02-27', '2008-02-14', '2009-02-17', '2010-02-26', '2011-02-22', '2012-02-21', '2013-02-19', '2014-02-26', '2015-02-20', '2016-02-19', '2017-02-17', '2018-03-01', '2019-03-01', '2020-03-02', '2021-03-01', '2022-02-28', '2023-02-27', '2024-02-29']\n",
            "Completed: 95/198\n"
          ]
        },
        {
          "output_type": "stream",
          "name": "stderr",
          "text": [
            "\r[*********************100%%**********************]  1 of 1 completed\n"
          ]
        },
        {
          "output_type": "stream",
          "name": "stdout",
          "text": [
            "['2002-01-14', '2002-04-02', '2003-03-19', '2004-03-16', '2005-04-12', '2006-03-21', '2007-03-29', '2008-03-28', '2009-03-24', '2010-03-31', '2011-03-22', '2012-03-22', '2013-03-25', '2014-03-20', '2015-03-20', '2016-03-22', '2017-03-24', '2018-03-23', '2019-03-22', '2020-03-19', '2021-03-19', '2022-03-18', '2023-03-24', '2024-03-25']\n",
            "Completed: 96/198\n"
          ]
        },
        {
          "output_type": "stream",
          "name": "stderr",
          "text": [
            "\r[*********************100%%**********************]  1 of 1 completed\n"
          ]
        },
        {
          "output_type": "stream",
          "name": "stdout",
          "text": [
            "['2015-04-07', '2016-03-29', '2017-03-28', '2018-04-03', '2019-04-02', '2020-04-03', '2021-03-31', '2022-03-29', '2023-03-28']\n",
            "Completed: 97/198\n"
          ]
        },
        {
          "output_type": "stream",
          "name": "stderr",
          "text": [
            "\r[*********************100%%**********************]  1 of 1 completed\n"
          ]
        },
        {
          "output_type": "stream",
          "name": "stdout",
          "text": [
            "['2002-03-28', '2003-03-27', '2004-03-12', '2005-03-14', '2006-03-16', '2007-03-01', '2008-02-28', '2009-03-02', '2010-03-01', '2011-02-25', '2012-02-24', '2013-02-26', '2014-02-25', '2015-02-19', '2016-02-29', '2017-03-01', '2018-02-23', '2019-02-22', '2020-03-02', '2021-02-24', '2022-02-24', '2023-02-21', '2024-02-22']\n",
            "Completed: 98/198\n"
          ]
        },
        {
          "output_type": "stream",
          "name": "stderr",
          "text": [
            "\r[*********************100%%**********************]  1 of 1 completed\n"
          ]
        },
        {
          "output_type": "stream",
          "name": "stdout",
          "text": [
            "['2005-12-20', '2006-12-12', '2007-11-21', '2008-11-21', '2009-11-19', '2010-11-22', '2011-11-23', '2012-11-15', '2013-11-15', '2014-11-18', '2015-11-24', '2016-11-18', '2017-11-16', '2018-11-15', '2019-11-25', '2020-11-16', '2021-11-17', '2022-11-18', '2023-11-17']\n",
            "Completed: 99/198\n"
          ]
        },
        {
          "output_type": "stream",
          "name": "stderr",
          "text": [
            "\r[*********************100%%**********************]  1 of 1 completed\n"
          ]
        },
        {
          "output_type": "stream",
          "name": "stdout",
          "text": [
            "['2002-03-28', '2003-03-28', '2004-02-09', '2005-03-15', '2006-03-16', '2007-02-21', '2008-02-26', '2009-02-23', '2010-02-23', '2011-02-28', '2012-02-24', '2013-02-22', '2014-02-21', '2015-02-20', '2016-02-19', '2017-02-17', '2018-02-21', '2019-02-13', '2020-02-12', '2021-02-10', '2022-02-09', '2023-02-08', '2024-02-07']\n",
            "Completed: 100/198\n"
          ]
        },
        {
          "output_type": "stream",
          "name": "stderr",
          "text": [
            "\r[*********************100%%**********************]  1 of 1 completed\n"
          ]
        },
        {
          "output_type": "stream",
          "name": "stdout",
          "text": [
            "['2002-01-25', '2003-01-29', '2004-01-29', '2005-01-12', '2006-01-12', '2007-01-11', '2007-12-21', '2008-12-22', '2009-12-18', '2010-12-17', '2011-12-16', '2012-12-20', '2013-12-20', '2014-12-15', '2015-12-14', '2016-12-12', '2017-12-14', '2018-12-17', '2019-12-20', '2020-12-15', '2021-12-13', '2022-12-12', '2023-12-12']\n",
            "Completed: 101/198\n"
          ]
        },
        {
          "output_type": "stream",
          "name": "stderr",
          "text": [
            "\r[*********************100%%**********************]  1 of 1 completed\n"
          ]
        },
        {
          "output_type": "stream",
          "name": "stdout",
          "text": [
            "['2002-07-29', '2003-07-22', '2004-07-14', '2005-07-14', '2006-07-14', '2007-06-29', '2008-06-30', '2009-06-29', '2010-06-29', '2011-06-29', '2012-06-22', '2013-06-25', '2014-06-27', '2015-06-26', '2016-06-28', '2017-06-28', '2018-06-28', '2019-06-28', '2020-07-15', '2021-06-28', '2022-06-28', '2023-06-28']\n",
            "Completed: 102/198\n"
          ]
        },
        {
          "output_type": "stream",
          "name": "stderr",
          "text": [
            "\r[*********************100%%**********************]  1 of 1 completed\n"
          ]
        },
        {
          "output_type": "stream",
          "name": "stdout",
          "text": [
            "['2015-06-04', '2016-05-31', '2017-06-14', '2018-06-28', '2019-05-30', '2020-06-12', '2021-06-02', '2022-06-02', '2023-06-02']\n",
            "Completed: 103/198\n"
          ]
        },
        {
          "output_type": "stream",
          "name": "stderr",
          "text": [
            "\r[*********************100%%**********************]  1 of 1 completed\n"
          ]
        },
        {
          "output_type": "stream",
          "name": "stdout",
          "text": [
            "['2018-02-20', '2019-02-14', '2020-02-13', '2021-02-11', '2022-02-15', '2023-02-15']\n",
            "Completed: 104/198\n"
          ]
        },
        {
          "output_type": "stream",
          "name": "stderr",
          "text": [
            "\r[*********************100%%**********************]  1 of 1 completed\n"
          ]
        },
        {
          "output_type": "stream",
          "name": "stdout",
          "text": [
            "['2002-04-01', '2003-03-31', '2004-03-09', '2005-03-03', '2006-03-03', '2007-02-27', '2008-02-26', '2009-02-24', '2010-02-25', '2011-02-28', '2012-02-21', '2013-02-19', '2014-02-14', '2015-02-17', '2016-02-26', '2017-02-15', '2018-02-15', '2019-02-12', '2020-02-11', '2021-02-09', '2022-02-16', '2023-02-14']\n"
          ]
        },
        {
          "output_type": "stream",
          "name": "stderr",
          "text": [
            "\r[*********************100%%**********************]  1 of 1 completed"
          ]
        },
        {
          "output_type": "stream",
          "name": "stdout",
          "text": [
            "Completed: 105/198\n",
            "['2021-03-15', '2022-03-01', '2023-03-01', '2024-02-29']\n",
            "Completed: 106/198\n"
          ]
        },
        {
          "output_type": "stream",
          "name": "stderr",
          "text": [
            "\n",
            "[*********************100%%**********************]  1 of 1 completed\n"
          ]
        },
        {
          "output_type": "stream",
          "name": "stdout",
          "text": [
            "['2013-02-28', '2014-02-26', '2015-02-26', '2016-02-24', '2017-02-22', '2018-02-28', '2019-02-27', '2020-02-26', '2021-02-24', '2022-02-23', '2023-02-23', '2024-02-29']\n",
            "Completed: 107/198\n"
          ]
        },
        {
          "output_type": "stream",
          "name": "stderr",
          "text": [
            "\r[*********************100%%**********************]  1 of 1 completed\n"
          ]
        },
        {
          "output_type": "stream",
          "name": "stdout",
          "text": [
            "['2003-03-04', '2004-03-02', '2005-02-22', '2006-02-24', '2007-02-15', '2008-02-15', '2009-02-25', '2010-02-23', '2011-02-23', '2012-02-29', '2013-02-28', '2014-03-05', '2015-02-24', '2016-02-23', '2017-03-02', '2018-03-02', '2019-03-14', '2020-03-10', '2021-02-26', '2022-02-18', '2023-02-17', '2024-02-16']\n",
            "Completed: 108/198\n"
          ]
        },
        {
          "output_type": "stream",
          "name": "stderr",
          "text": [
            "\r[*********************100%%**********************]  1 of 1 completed\n"
          ]
        },
        {
          "output_type": "stream",
          "name": "stdout",
          "text": [
            "['2006-05-01', '2007-04-12', '2008-03-28', '2009-03-30', '2010-04-01', '2011-03-25', '2012-03-27', '2013-03-27', '2014-03-27', '2015-03-25', '2017-02-24', '2018-02-23', '2019-02-19', '2020-02-18', '2021-02-23', '2022-02-15', '2023-02-14', '2024-02-13']\n",
            "Completed: 109/198\n"
          ]
        },
        {
          "output_type": "stream",
          "name": "stderr",
          "text": [
            "\r[*********************100%%**********************]  1 of 1 completed\n"
          ]
        },
        {
          "output_type": "stream",
          "name": "stdout",
          "text": [
            "['2014-12-03', '2015-12-01', '2016-11-23', '2017-11-22', '2018-11-21', '2019-11-26', '2020-11-24', '2021-11-23', '2023-11-21']\n",
            "Completed: 110/198\n"
          ]
        },
        {
          "output_type": "stream",
          "name": "stderr",
          "text": [
            "\r[*********************100%%**********************]  1 of 1 completed\n"
          ]
        },
        {
          "output_type": "stream",
          "name": "stdout",
          "text": [
            "['2002-03-29', '2003-03-31', '2004-03-15', '2005-03-07', '2006-03-14', '2007-03-01', '2008-02-29', '2009-03-02', '2010-03-01', '2011-02-28', '2012-02-29', '2013-02-28', '2014-02-28', '2015-02-27', '2016-02-25', '2017-03-01', '2018-03-01', '2019-02-28', '2020-03-02', '2021-02-25', '2022-02-24', '2023-02-23', '2024-02-29']\n",
            "Completed: 111/198\n"
          ]
        },
        {
          "output_type": "stream",
          "name": "stderr",
          "text": [
            "\r[*********************100%%**********************]  1 of 1 completed\n"
          ]
        },
        {
          "output_type": "stream",
          "name": "stdout",
          "text": [
            "['2002-03-29', '2003-04-03', '2004-03-15', '2005-03-16', '2006-03-10', '2007-02-27', '2008-02-26', '2009-02-24', '2010-02-25', '2011-02-28', '2012-02-28', '2013-02-25', '2014-02-24', '2015-02-23', '2016-02-23', '2017-02-27', '2018-02-26', '2019-02-25', '2020-02-24', '2021-02-22', '2022-02-22', '2023-02-21', '2024-02-28']\n",
            "Completed: 112/198\n"
          ]
        },
        {
          "output_type": "stream",
          "name": "stderr",
          "text": [
            "\r[*********************100%%**********************]  1 of 1 completed\n"
          ]
        },
        {
          "output_type": "stream",
          "name": "stdout",
          "text": [
            "['2003-04-15', '2004-03-15', '2005-03-03', '2006-02-28', '2007-02-28', '2008-02-27', '2009-03-16', '2010-02-26', '2011-03-01', '2012-02-27', '2013-02-22', '2014-02-21', '2015-02-24', '2016-02-10', '2017-02-16', '2018-02-02', '2019-01-31', '2020-01-31', '2021-01-29', '2022-01-28', '2023-01-27', '2024-02-02']\n",
            "Completed: 113/198\n"
          ]
        },
        {
          "output_type": "stream",
          "name": "stderr",
          "text": [
            "\r[*********************100%%**********************]  1 of 1 completed\n"
          ]
        },
        {
          "output_type": "stream",
          "name": "stdout",
          "text": [
            "['2007-06-29', '2008-06-26', '2009-06-24', '2010-06-25', '2011-06-22', '2012-06-27', '2013-06-26', '2014-07-09', '2015-07-01', '2016-06-29', '2017-06-28', '2018-06-27', '2019-06-26', '2020-06-24', '2021-06-29', '2022-06-29', '2023-06-28']\n"
          ]
        },
        {
          "output_type": "stream",
          "name": "stderr",
          "text": [
            "\r[*********************100%%**********************]  1 of 1 completed"
          ]
        },
        {
          "output_type": "stream",
          "name": "stdout",
          "text": [
            "Completed: 114/198\n",
            "['2019-02-22', '2020-02-28', '2021-02-26', '2022-03-02', '2023-03-07', '2024-02-29']\n"
          ]
        },
        {
          "output_type": "stream",
          "name": "stderr",
          "text": [
            "\n"
          ]
        },
        {
          "output_type": "stream",
          "name": "stdout",
          "text": [
            "Completed: 115/198\n"
          ]
        },
        {
          "output_type": "stream",
          "name": "stderr",
          "text": [
            "\r[*********************100%%**********************]  1 of 1 completed\n"
          ]
        },
        {
          "output_type": "stream",
          "name": "stdout",
          "text": [
            "['2003-03-27', '2004-03-05', '2005-03-10', '2006-03-16', '2007-02-28', '2008-02-27', '2009-02-26', '2010-02-22', '2011-02-25', '2012-02-24', '2013-02-26', '2014-02-28', '2015-03-02', '2016-02-26', '2017-02-27', '2018-02-26', '2019-02-22', '2020-02-21', '2021-02-19', '2022-02-18', '2023-02-17', '2024-02-16']\n",
            "Completed: 116/198\n"
          ]
        },
        {
          "output_type": "stream",
          "name": "stderr",
          "text": [
            "\r[*********************100%%**********************]  1 of 1 completed\n"
          ]
        },
        {
          "output_type": "stream",
          "name": "stdout",
          "text": [
            "['2002-04-25', '2003-05-01', '2004-04-14', '2005-04-14', '2006-04-13', '2007-04-18', '2008-04-17', '2009-04-16', '2010-04-15', '2011-04-14', '2012-04-12', '2013-04-15', '2014-04-10', '2015-04-16', '2016-04-04', '2017-03-29', '2018-04-02', '2019-04-02', '2020-03-31', '2021-03-26', '2022-03-25', '2023-03-24', '2024-03-22']\n",
            "Completed: 117/198\n"
          ]
        },
        {
          "output_type": "stream",
          "name": "stderr",
          "text": [
            "\r[*********************100%%**********************]  1 of 1 completed\n"
          ]
        },
        {
          "output_type": "stream",
          "name": "stdout",
          "text": [
            "['2002-11-22', '2003-11-21', '2004-11-12', '2005-11-10', '2006-11-17', '2007-10-25', '2008-10-16', '2009-10-16', '2010-10-18', '2011-10-14', '2012-10-19', '2013-10-16', '2014-10-15', '2015-10-14', '2016-10-12', '2017-10-18', '2018-10-26', '2019-10-11', '2020-10-07', '2021-10-06', '2022-10-05', '2023-10-11']\n",
            "Completed: 118/198\n"
          ]
        },
        {
          "output_type": "stream",
          "name": "stderr",
          "text": [
            "\r[*********************100%%**********************]  1 of 1 completed\n"
          ]
        },
        {
          "output_type": "stream",
          "name": "stdout",
          "text": [
            "['2002-03-11', '2003-03-10', '2004-03-08', '2005-03-08', '2006-02-24', '2007-02-26', '2008-02-28', '2009-02-27', '2010-02-26', '2011-02-25', '2012-02-28', '2013-03-01', '2014-02-28', '2015-02-27', '2016-02-26', '2017-02-24', '2018-02-23', '2019-03-04', '2020-02-28', '2021-02-26', '2022-02-25', '2023-02-24', '2024-02-23']\n",
            "Completed: 119/198\n"
          ]
        },
        {
          "output_type": "stream",
          "name": "stderr",
          "text": [
            "\r[*********************100%%**********************]  1 of 1 completed\n"
          ]
        },
        {
          "output_type": "stream",
          "name": "stdout",
          "text": [
            "['2002-09-20', '2003-09-03', '2004-09-08', '2005-09-09', '2006-09-11', '2007-08-27', '2008-08-29', '2009-08-26', '2010-08-30', '2011-08-25', '2012-08-27', '2014-02-26', '2015-02-20', '2016-02-19', '2017-02-17', '2018-02-16', '2019-02-19', '2020-02-18', '2021-02-18', '2022-02-17', '2023-02-14', '2024-03-12']\n",
            "Completed: 120/198\n"
          ]
        },
        {
          "output_type": "stream",
          "name": "stderr",
          "text": [
            "\r[*********************100%%**********************]  1 of 1 completed\n"
          ]
        },
        {
          "output_type": "stream",
          "name": "stdout",
          "text": [
            "['2002-12-26', '2003-12-24', '2004-12-14', '2005-12-14', '2006-12-13', '2007-11-29', '2008-12-01', '2009-11-30', '2010-11-29', '2011-11-29', '2012-11-29', '2013-11-27', '2014-11-26', '2015-11-30', '2016-11-29', '2017-11-29', '2018-11-29', '2019-11-29', '2020-11-30', '2021-11-29', '2022-11-29', '2023-11-29']\n",
            "Completed: 121/198\n"
          ]
        },
        {
          "output_type": "stream",
          "name": "stderr",
          "text": [
            "\r[*********************100%%**********************]  1 of 1 completed\n"
          ]
        },
        {
          "output_type": "stream",
          "name": "stdout",
          "text": [
            "['2011-03-31', '2013-03-18', '2014-03-17', '2015-03-16', '2016-03-15', '2017-03-16', '2018-03-01', '2019-03-01', '2020-03-02', '2021-03-10', '2022-03-01', '2023-03-01', '2024-02-29']\n",
            "Completed: 122/198\n"
          ]
        },
        {
          "output_type": "stream",
          "name": "stderr",
          "text": [
            "\r[*********************100%%**********************]  1 of 1 completed\n"
          ]
        },
        {
          "output_type": "stream",
          "name": "stdout",
          "text": [
            "['2014-02-14', '2015-02-05', '2016-02-04', '2017-02-07', '2018-02-07', '2019-02-07', '2020-02-06', '2021-02-04', '2022-02-03', '2023-02-02', '2024-02-08']\n",
            "Completed: 123/198\n"
          ]
        },
        {
          "output_type": "stream",
          "name": "stderr",
          "text": [
            "\r[*********************100%%**********************]  1 of 1 completed\n"
          ]
        },
        {
          "output_type": "stream",
          "name": "stdout",
          "text": [
            "['2002-02-13', '2003-02-18', '2004-02-06', '2005-01-31', '2006-02-14', '2007-02-07', '2008-04-01', '2009-03-16', '2010-03-15', '2011-03-11', '2012-03-13', '2013-03-18', '2014-03-17', '2015-03-16', '2016-03-15', '2017-03-17', '2018-03-19', '2019-03-18', '2020-03-16', '2021-03-16', '2022-03-01', '2023-03-01', '2024-02-29']\n",
            "Completed: 124/198\n"
          ]
        },
        {
          "output_type": "stream",
          "name": "stderr",
          "text": [
            "\r[*********************100%%**********************]  1 of 1 completed\n"
          ]
        },
        {
          "output_type": "stream",
          "name": "stdout",
          "text": [
            "['2002-03-29', '2003-03-03', '2004-02-20', '2005-02-18', '2006-02-17', '2007-02-23', '2008-02-15', '2009-03-02', '2010-03-01', '2011-02-28', '2012-02-27', '2013-02-28', '2014-02-11', '2015-02-27', '2016-02-29', '2017-02-24', '2018-02-23', '2019-02-26', '2020-02-28', '2021-02-22', '2022-02-17', '2023-02-14', '2024-02-12']\n",
            "Completed: 125/198\n"
          ]
        },
        {
          "output_type": "stream",
          "name": "stderr",
          "text": [
            "\r[*********************100%%**********************]  1 of 1 completed\n"
          ]
        },
        {
          "output_type": "stream",
          "name": "stdout",
          "text": [
            "['2002-03-25', '2003-03-21', '2004-03-12', '2005-03-15', '2006-02-17', '2007-02-16', '2008-02-14', '2009-02-12', '2010-02-11', '2011-02-10', '2012-02-14', '2013-02-14', '2014-02-13', '2015-02-12', '2016-02-11', '2017-02-09', '2018-02-08', '2019-02-19', '2020-02-13', '2021-02-22', '2022-02-15', '2023-02-09', '2024-02-08']\n",
            "Completed: 126/198\n"
          ]
        },
        {
          "output_type": "stream",
          "name": "stderr",
          "text": [
            "\r[*********************100%%**********************]  1 of 1 completed\n"
          ]
        },
        {
          "output_type": "stream",
          "name": "stdout",
          "text": [
            "['2003-02-28', '2004-03-01', '2005-02-14', '2006-02-10', '2007-02-13', '2008-01-29', '2009-01-29', '2010-01-29', '2011-01-31', '2012-01-30', '2013-01-18', '2014-01-27', '2015-01-22', '2016-01-25', '2017-01-27', '2018-01-26', '2019-01-24', '2020-01-24', '2021-01-22', '2022-01-21', '2023-01-20', '2024-01-19']\n",
            "Completed: 127/198\n"
          ]
        },
        {
          "output_type": "stream",
          "name": "stderr",
          "text": [
            "\r[*********************100%%**********************]  1 of 1 completed\n"
          ]
        },
        {
          "output_type": "stream",
          "name": "stdout",
          "text": [
            "['2008-03-31', '2009-03-16', '2010-03-08', '2011-03-04', '2012-02-29', '2013-03-01', '2014-03-03', '2015-02-27', '2016-03-03', '2017-03-02', '2018-02-23', '2019-03-18', '2020-03-12', '2021-03-12', '2022-02-25', '2023-02-24']\n",
            "Completed: 128/198\n"
          ]
        },
        {
          "output_type": "stream",
          "name": "stderr",
          "text": [
            "\r[*********************100%%**********************]  1 of 1 completed\n"
          ]
        },
        {
          "output_type": "stream",
          "name": "stdout",
          "text": [
            "['2010-03-08', '2011-02-25', '2012-02-24', '2013-03-01', '2014-02-28', '2015-02-27', '2016-02-26', '2017-02-24', '2018-03-01', '2019-03-01', '2020-03-02', '2021-03-01', '2022-03-01', '2023-03-01', '2024-02-29']\n",
            "Completed: 129/198\n"
          ]
        },
        {
          "output_type": "stream",
          "name": "stderr",
          "text": [
            "\r[*********************100%%**********************]  1 of 1 completed\n"
          ]
        },
        {
          "output_type": "stream",
          "name": "stdout",
          "text": [
            "['2003-03-21', '2004-03-05', '2005-03-02', '2006-03-03', '2007-02-23', '2008-02-25', '2009-02-20', '2010-02-19', '2011-02-18', '2012-02-24', '2013-02-22', '2014-02-19', '2015-02-18', '2016-02-18', '2017-02-17', '2018-02-16', '2019-02-21', '2020-02-20', '2021-02-18', '2022-02-17', '2023-02-16', '2024-02-15']\n",
            "Completed: 130/198\n"
          ]
        },
        {
          "output_type": "stream",
          "name": "stderr",
          "text": [
            "\r[*********************100%%**********************]  1 of 1 completed\n"
          ]
        },
        {
          "output_type": "stream",
          "name": "stdout",
          "text": [
            "['2003-03-28', '2004-03-10', '2005-03-07', '2006-03-15', '2007-03-01', '2008-02-21', '2009-02-25', '2010-02-24', '2011-02-24', '2012-02-24', '2013-02-22', '2014-02-21', '2015-02-25', '2016-02-24', '2017-02-22', '2018-02-21', '2019-02-21', '2020-02-21', '2021-02-25', '2022-02-23', '2023-02-22', '2024-02-21']\n",
            "Completed: 131/198\n"
          ]
        },
        {
          "output_type": "stream",
          "name": "stderr",
          "text": [
            "\r[*********************100%%**********************]  1 of 1 completed\n"
          ]
        },
        {
          "output_type": "stream",
          "name": "stdout",
          "text": [
            "['2006-12-22', '2007-11-29', '2008-11-20', '2009-11-19', '2010-11-18', '2011-11-16', '2012-11-15', '2013-11-14', '2014-11-13', '2015-11-12', '2016-11-15', '2017-11-15', '2018-11-14', '2019-11-25', '2020-11-24', '2021-11-22', '2022-11-17', '2023-11-16']\n",
            "Completed: 132/198\n"
          ]
        },
        {
          "output_type": "stream",
          "name": "stderr",
          "text": [
            "\r[*********************100%%**********************]  1 of 1 completed\n"
          ]
        },
        {
          "output_type": "stream",
          "name": "stdout",
          "text": [
            "['2005-06-15', '2006-06-14', '2007-06-14', '2008-06-13', '2009-06-15', '2010-06-11', '2011-05-13', '2012-05-18', '2013-05-17', '2014-05-19', '2015-05-14', '2016-05-17', '2017-05-17', '2018-05-10', '2019-05-13', '2020-05-08', '2021-05-07', '2022-05-06', '2023-05-05']\n",
            "Completed: 133/198\n"
          ]
        },
        {
          "output_type": "stream",
          "name": "stderr",
          "text": [
            "\r[*********************100%%**********************]  1 of 1 completed\n"
          ]
        },
        {
          "output_type": "stream",
          "name": "stdout",
          "text": [
            "['2003-03-10', '2004-03-11', '2005-03-14', '2006-03-09', '2007-03-07', '2008-03-12', '2009-03-06', '2010-03-05', '2011-03-09', '2012-03-08', '2013-03-08', '2014-03-11', '2015-03-02', '2016-02-29', '2017-02-27', '2018-02-28', '2019-02-27', '2020-02-27', '2021-02-26', '2022-02-25', '2023-02-24', '2024-02-23']\n",
            "Completed: 134/198\n"
          ]
        },
        {
          "output_type": "stream",
          "name": "stderr",
          "text": [
            "\r[*********************100%%**********************]  1 of 1 completed\n"
          ]
        },
        {
          "output_type": "stream",
          "name": "stdout",
          "text": [
            "['2002-03-22', '2003-03-28', '2004-03-12', '2005-03-07', '2006-03-07', '2007-02-27', '2008-02-27', '2009-02-25', '2010-02-24', '2011-02-25', '2012-02-27', '2013-02-27', '2014-02-27', '2015-02-25', '2016-02-25', '2017-02-23', '2018-02-22', '2019-02-25', '2020-02-20', '2021-02-22', '2022-02-18', '2023-02-21', '2024-02-20']\n",
            "Completed: 135/198\n"
          ]
        },
        {
          "output_type": "stream",
          "name": "stderr",
          "text": [
            "\r[*********************100%%**********************]  1 of 1 completed\n"
          ]
        },
        {
          "output_type": "stream",
          "name": "stdout",
          "text": [
            "['2002-04-01', '2003-03-31', '2004-03-15', '2005-05-31', '2006-03-16', '2007-03-01', '2008-02-28', '2009-03-02', '2010-02-26', '2011-02-24', '2012-02-23', '2013-02-21', '2014-02-20', '2015-02-20', '2016-02-19', '2017-02-23', '2018-02-16', '2019-02-15', '2020-02-21', '2021-02-19', '2022-02-17', '2023-02-17', '2024-02-14']\n",
            "Completed: 136/198\n"
          ]
        },
        {
          "output_type": "stream",
          "name": "stderr",
          "text": [
            "\r[*********************100%%**********************]  1 of 1 completed\n"
          ]
        },
        {
          "output_type": "stream",
          "name": "stdout",
          "text": [
            "['2008-03-04', '2009-03-04', '2010-02-17', '2011-02-16', '2012-02-17', '2013-02-15', '2014-02-14', '2015-02-17', '2016-02-24', '2017-02-15', '2018-02-28', '2019-02-26', '2020-02-19', '2021-02-23', '2022-02-16', '2023-03-01', '2024-02-28']\n",
            "Completed: 137/198\n"
          ]
        },
        {
          "output_type": "stream",
          "name": "stderr",
          "text": [
            "\r[*********************100%%**********************]  1 of 1 completed\n"
          ]
        },
        {
          "output_type": "stream",
          "name": "stdout",
          "text": [
            "['2002-03-14', '2003-03-28', '2004-04-13', '2005-04-14', '2006-04-12', '2007-04-04', '2008-04-01', '2009-03-26', '2010-03-19', '2011-03-17', '2012-03-15', '2013-03-15', '2014-03-14', '2015-03-13', '2016-03-28', '2017-03-28', '2018-03-16', '2019-03-27', '2020-03-20', '2021-03-16', '2022-03-15', '2023-03-10', '2024-03-20']\n",
            "Completed: 138/198\n"
          ]
        },
        {
          "output_type": "stream",
          "name": "stderr",
          "text": [
            "\r[*********************100%%**********************]  1 of 1 completed\n"
          ]
        },
        {
          "output_type": "stream",
          "name": "stdout",
          "text": [
            "['2022-03-07', '2023-03-01']\n",
            "Completed: 139/198\n"
          ]
        },
        {
          "output_type": "stream",
          "name": "stderr",
          "text": [
            "\r[*********************100%%**********************]  1 of 1 completed\n"
          ]
        },
        {
          "output_type": "stream",
          "name": "stdout",
          "text": [
            "['2023-05-19']\n",
            "Completed: 140/198\n"
          ]
        },
        {
          "output_type": "stream",
          "name": "stderr",
          "text": [
            "\r[*********************100%%**********************]  1 of 1 completed\n"
          ]
        },
        {
          "output_type": "stream",
          "name": "stdout",
          "text": [
            "['2016-03-02', '2017-02-23', '2018-02-26', '2019-02-20', '2020-02-25', '2021-02-25', '2022-02-24', '2023-02-23', '2024-02-22']\n",
            "Completed: 141/198\n"
          ]
        },
        {
          "output_type": "stream",
          "name": "stderr",
          "text": [
            "\r[*********************100%%**********************]  1 of 1 completed\n"
          ]
        },
        {
          "output_type": "stream",
          "name": "stdout",
          "text": [
            "['2002-12-20', '2003-12-18', '2004-12-13', '2005-12-14', '2006-12-13', '2007-11-27', '2008-11-25', '2009-11-24', '2010-11-23', '2011-11-22', '2012-11-27', '2013-11-27', '2014-11-26', '2015-11-24', '2016-11-22', '2017-11-21', '2018-11-20', '2019-11-22', '2020-11-20', '2021-11-19', '2022-11-18', '2023-11-17']\n",
            "Completed: 142/198\n"
          ]
        },
        {
          "output_type": "stream",
          "name": "stderr",
          "text": [
            "\r[*********************100%%**********************]  1 of 1 completed\n"
          ]
        },
        {
          "output_type": "stream",
          "name": "stdout",
          "text": [
            "['2014-03-25', '2015-02-27', '2016-02-22', '2017-02-22', '2018-02-16', '2019-02-13', '2020-02-21', '2021-02-19', '2022-02-24', '2023-02-23', '2024-02-27']\n",
            "Completed: 143/198\n"
          ]
        },
        {
          "output_type": "stream",
          "name": "stderr",
          "text": [
            "\r[*********************100%%**********************]  1 of 1 completed\n"
          ]
        },
        {
          "output_type": "stream",
          "name": "stdout",
          "text": [
            "['2018-02-16', '2019-02-27', '2020-02-26', '2021-02-26', '2022-02-25', '2023-02-21', '2024-02-23']\n",
            "Completed: 144/198\n"
          ]
        },
        {
          "output_type": "stream",
          "name": "stderr",
          "text": [
            "\r[*********************100%%**********************]  1 of 1 completed\n"
          ]
        },
        {
          "output_type": "stream",
          "name": "stdout",
          "text": [
            "['2002-07-26', '2003-07-29', '2004-07-14', '2005-07-14', '2006-07-13', '2007-06-29', '2008-06-26', '2009-06-29', '2010-06-29', '2011-06-28', '2012-06-26', '2013-06-27', '2014-06-27', '2015-06-26', '2016-06-27', '2017-06-29', '2018-06-29', '2019-06-28', '2020-06-26', '2021-06-25', '2022-06-24', '2023-06-23']\n",
            "Completed: 145/198\n"
          ]
        },
        {
          "output_type": "stream",
          "name": "stderr",
          "text": [
            "\r[*********************100%%**********************]  1 of 1 completed\n"
          ]
        },
        {
          "output_type": "stream",
          "name": "stdout",
          "text": [
            "['2002-12-20', '2003-12-23', '2004-12-13', '2005-12-09', '2006-11-30', '2007-11-23', '2008-11-26', '2009-11-25', '2010-11-24', '2011-11-23', '2012-11-21', '2013-11-27', '2014-11-26', '2015-11-25', '2016-11-23', '2017-11-22', '2018-11-21', '2019-11-27', '2020-11-25', '2021-11-24', '2022-11-22', '2023-11-21']\n",
            "Completed: 146/198\n"
          ]
        },
        {
          "output_type": "stream",
          "name": "stderr",
          "text": [
            "[*********************100%%**********************]  1 of 1 completed\n",
            "[*********************100%%**********************]  1 of 1 completed"
          ]
        },
        {
          "output_type": "stream",
          "name": "stdout",
          "text": [
            "['2019-05-30', '2020-05-29', '2021-05-28', '2022-05-31']\n",
            "Completed: 147/198\n",
            "['2022-12-22', '2023-11-29']\n"
          ]
        },
        {
          "output_type": "stream",
          "name": "stderr",
          "text": [
            "\n"
          ]
        },
        {
          "output_type": "stream",
          "name": "stdout",
          "text": [
            "Completed: 148/198\n"
          ]
        },
        {
          "output_type": "stream",
          "name": "stderr",
          "text": [
            "\r[*********************100%%**********************]  1 of 1 completed\n"
          ]
        },
        {
          "output_type": "stream",
          "name": "stdout",
          "text": [
            "['2016-06-23', '2017-06-13', '2018-05-25', '2019-05-24', '2020-05-15', '2021-05-21', '2022-05-27', '2023-05-25']\n",
            "Completed: 149/198\n"
          ]
        },
        {
          "output_type": "stream",
          "name": "stderr",
          "text": [
            "\r[*********************100%%**********************]  1 of 1 completed\n"
          ]
        },
        {
          "output_type": "stream",
          "name": "stdout",
          "text": [
            "['2003-03-31', '2004-03-15', '2005-03-14', '2006-03-16', '2007-03-15', '2008-02-29', '2009-02-27', '2010-03-08', '2011-03-09', '2012-02-29', '2013-03-08', '2014-03-14', '2015-02-27', '2016-02-25', '2017-02-17', '2018-02-15', '2019-02-14', '2020-02-13', '2021-02-18', '2022-02-17', '2023-02-16', '2024-02-15']\n",
            "Completed: 150/198\n"
          ]
        },
        {
          "output_type": "stream",
          "name": "stderr",
          "text": [
            "\r[*********************100%%**********************]  1 of 1 completed\n"
          ]
        },
        {
          "output_type": "stream",
          "name": "stdout",
          "text": [
            "['2003-03-20', '2004-03-09', '2005-03-07', '2006-03-15', '2007-03-16', '2008-02-29', '2009-03-31', '2010-02-24', '2011-02-24', '2012-03-05', '2013-03-26', '2014-03-03', '2015-02-27', '2016-02-26', '2017-02-27', '2018-02-28', '2019-02-21', '2020-02-21', '2021-02-23', '2022-02-25', '2023-02-17', '2024-02-22']\n",
            "Completed: 151/198\n"
          ]
        },
        {
          "output_type": "stream",
          "name": "stderr",
          "text": [
            "\r[*********************100%%**********************]  1 of 1 completed\n"
          ]
        },
        {
          "output_type": "stream",
          "name": "stdout",
          "text": [
            "['2002-10-15', '2003-10-15', '2004-10-15', '2005-11-04', '2006-11-08', '2007-10-26', '2008-10-27', '2009-10-28', '2010-10-26', '2011-10-25', '2012-10-29', '2013-10-28', '2014-10-27', '2015-10-27', '2016-10-28', '2017-10-26', '2018-10-15', '2019-10-17', '2020-10-19', '2021-10-08', '2022-10-07', '2023-10-06']\n",
            "Completed: 152/198\n"
          ]
        },
        {
          "output_type": "stream",
          "name": "stderr",
          "text": [
            "\r[*********************100%%**********************]  1 of 1 completed\n"
          ]
        },
        {
          "output_type": "stream",
          "name": "stdout",
          "text": [
            "['2002-03-29', '2003-03-28', '2004-03-12', '2005-03-16', '2006-03-14', '2007-03-09', '2008-03-12', '2009-03-12', '2010-03-12', '2011-02-28', '2012-02-29', '2013-03-01', '2014-02-27', '2015-02-26', '2016-02-26', '2017-02-28', '2018-03-01', '2019-02-28', '2020-03-02', '2021-03-16', '2022-03-01', '2023-03-01', '2024-03-04']\n",
            "Completed: 153/198\n"
          ]
        },
        {
          "output_type": "stream",
          "name": "stderr",
          "text": [
            "\r[*********************100%%**********************]  1 of 1 completed\n"
          ]
        },
        {
          "output_type": "stream",
          "name": "stdout",
          "text": [
            "['2002-11-22', '2003-11-21', '2004-11-19', '2005-11-18', '2006-11-22', '2007-11-29', '2008-11-19', '2009-11-16', '2010-11-12', '2011-11-22', '2012-11-13', '2013-11-13', '2014-11-06', '2015-11-06', '2016-11-14', '2017-11-13', '2018-11-13', '2019-11-12', '2020-11-13', '2021-11-12', '2022-11-14', '2023-11-14']\n",
            "Completed: 154/198\n"
          ]
        },
        {
          "output_type": "stream",
          "name": "stderr",
          "text": [
            "\r[*********************100%%**********************]  1 of 1 completed\n"
          ]
        },
        {
          "output_type": "stream",
          "name": "stdout",
          "text": [
            "['2003-03-27', '2004-03-15', '2005-03-16', '2006-02-27', '2007-02-23', '2008-02-08', '2009-02-26', '2010-02-03', '2011-02-02', '2012-02-01', '2013-02-07', '2014-02-05', '2015-02-05', '2016-02-05', '2017-02-07', '2018-02-06', '2019-02-07', '2020-02-13', '2021-02-11', '2022-02-11', '2023-02-09', '2024-02-13']\n",
            "Completed: 155/198\n"
          ]
        },
        {
          "output_type": "stream",
          "name": "stderr",
          "text": [
            "\r[*********************100%%**********************]  1 of 1 completed\n"
          ]
        },
        {
          "output_type": "stream",
          "name": "stdout",
          "text": [
            "['2006-03-20', '2007-02-28', '2008-02-27', '2009-02-26', '2010-02-25', '2011-02-25', '2012-02-27', '2013-02-27', '2014-02-27', '2015-02-26', '2016-02-25', '2017-02-23', '2018-02-22', '2019-02-22', '2020-02-24', '2021-02-24', '2022-02-24', '2023-02-23', '2024-02-22']\n",
            "Completed: 156/198\n"
          ]
        },
        {
          "output_type": "stream",
          "name": "stderr",
          "text": [
            "\r[*********************100%%**********************]  1 of 1 completed\n"
          ]
        },
        {
          "output_type": "stream",
          "name": "stdout",
          "text": [
            "['2012-02-29', '2013-02-28', '2014-02-28', '2015-02-27', '2016-02-26', '2017-02-24', '2018-02-28', '2019-02-28', '2020-02-28', '2021-02-26', '2022-02-24', '2023-02-23', '2024-02-28']\n",
            "Completed: 157/198\n"
          ]
        },
        {
          "output_type": "stream",
          "name": "stderr",
          "text": [
            "\r[*********************100%%**********************]  1 of 1 completed\n"
          ]
        },
        {
          "output_type": "stream",
          "name": "stdout",
          "text": [
            "['2003-03-27', '2004-03-12', '2005-03-16', '2006-03-14', '2007-03-16', '2008-03-17', '2009-03-03', '2010-03-16', '2011-03-16', '2012-03-15', '2013-03-18', '2014-03-17', '2015-03-16', '2016-03-10', '2017-03-02', '2018-03-01', '2019-02-27', '2020-02-27', '2021-02-25', '2022-02-24', '2023-02-23', '2024-02-15']\n",
            "Completed: 158/198\n"
          ]
        },
        {
          "output_type": "stream",
          "name": "stderr",
          "text": [
            "\r[*********************100%%**********************]  1 of 1 completed\n"
          ]
        },
        {
          "output_type": "stream",
          "name": "stdout",
          "text": [
            "['2002-08-23', '2003-08-08', '2004-08-05', '2005-08-12', '2006-07-28', '2007-07-25', '2008-07-23', '2009-07-24', '2010-07-22', '2011-07-19', '2012-07-20', '2013-07-19', '2014-07-16', '2015-07-17', '2016-07-15', '2017-07-21', '2018-07-20', '2019-07-19', '2020-07-24', '2021-07-23', '2022-07-21', '2023-07-13']\n",
            "Completed: 159/198\n"
          ]
        },
        {
          "output_type": "stream",
          "name": "stderr",
          "text": [
            "\r[*********************100%%**********************]  1 of 1 completed\n"
          ]
        },
        {
          "output_type": "stream",
          "name": "stdout",
          "text": [
            "['2003-04-15', '2004-03-15', '2005-03-14', '2006-03-03', '2007-02-28', '2008-02-26', '2009-02-13', '2010-02-12', '2011-02-11', '2012-02-16', '2013-02-14', '2014-02-19', '2015-02-12', '2016-02-11', '2017-02-17', '2018-02-13', '2019-02-12', '2020-02-13', '2021-02-12', '2022-02-11', '2023-02-17']\n",
            "Completed: 160/198\n"
          ]
        },
        {
          "output_type": "stream",
          "name": "stderr",
          "text": [
            "\r[*********************100%%**********************]  1 of 1 completed\n"
          ]
        },
        {
          "output_type": "stream",
          "name": "stdout",
          "text": [
            "['2002-03-25', '2003-03-20', '2004-03-15', '2005-12-22', '2006-06-05', '2007-03-01', '2008-03-03', '2009-03-02', '2010-02-11', '2011-02-09', '2012-02-07', '2013-02-12', '2014-02-10', '2015-02-10', '2016-02-09', '2017-02-07', '2018-02-06', '2019-02-05', '2020-02-04', '2021-02-09', '2022-02-08', '2023-02-07', '2024-02-06']\n",
            "Completed: 161/198\n"
          ]
        },
        {
          "output_type": "stream",
          "name": "stderr",
          "text": [
            "\r[*********************100%%**********************]  1 of 1 completed\n"
          ]
        },
        {
          "output_type": "stream",
          "name": "stdout",
          "text": [
            "['2003-03-27', '2004-03-10', '2005-03-16', '2006-03-15', '2007-02-28', '2008-02-29', '2009-02-26', '2010-02-26', '2011-02-25', '2012-02-27', '2013-02-22', '2014-02-27', '2015-02-27', '2016-02-26', '2017-02-24', '2018-02-20', '2019-02-15', '2020-02-14', '2021-02-16', '2022-02-15', '2023-02-15', '2024-02-16']\n",
            "Completed: 162/198\n"
          ]
        },
        {
          "output_type": "stream",
          "name": "stderr",
          "text": [
            "\r[*********************100%%**********************]  1 of 1 completed\n"
          ]
        },
        {
          "output_type": "stream",
          "name": "stdout",
          "text": [
            "['2009-03-11', '2010-03-04', '2011-03-03', '2012-03-08', '2013-03-07', '2014-03-07', '2015-03-02', '2016-02-29', '2017-02-28', '2018-02-28', '2019-02-28', '2020-03-02', '2021-02-25', '2022-02-24', '2023-02-23', '2024-02-23']\n",
            "Completed: 163/198\n"
          ]
        },
        {
          "output_type": "stream",
          "name": "stderr",
          "text": [
            "\r[*********************100%%**********************]  1 of 1 completed\n"
          ]
        },
        {
          "output_type": "stream",
          "name": "stdout",
          "text": [
            "['2002-03-26', '2003-03-28', '2004-03-15', '2005-03-15', '2006-03-13', '2007-03-01', '2008-02-29', '2009-03-16', '2010-04-09', '2011-03-16', '2012-03-22', '2013-03-22', '2014-03-03', '2015-03-02', '2016-02-29', '2017-02-28', '2018-02-28', '2019-02-28', '2020-03-02', '2021-03-01', '2022-02-24']\n",
            "Completed: 164/198\n"
          ]
        },
        {
          "output_type": "stream",
          "name": "stderr",
          "text": [
            "\r[*********************100%%**********************]  1 of 1 completed\n"
          ]
        },
        {
          "output_type": "stream",
          "name": "stdout",
          "text": [
            "['2003-03-27', '2004-03-15', '2005-03-16', '2006-03-16', '2007-03-01', '2008-02-29', '2009-02-17', '2010-02-10', '2011-02-10', '2012-02-09', '2013-02-13', '2014-02-13', '2015-02-11', '2016-02-16', '2017-02-10', '2018-02-14', '2019-02-14', '2020-02-21', '2021-02-16', '2022-02-09', '2023-02-08', '2024-02-14']\n",
            "Completed: 165/198\n"
          ]
        },
        {
          "output_type": "stream",
          "name": "stderr",
          "text": [
            "\r[*********************100%%**********************]  1 of 1 completed\n"
          ]
        },
        {
          "output_type": "stream",
          "name": "stdout",
          "text": [
            "['2012-04-02', '2013-03-18', '2014-03-17', '2015-03-02', '2016-02-29', '2017-03-01', '2018-03-01', '2019-03-01', '2020-03-02', '2021-02-26', '2022-02-28', '2023-03-01', '2024-02-27']\n",
            "Completed: 166/198\n"
          ]
        },
        {
          "output_type": "stream",
          "name": "stderr",
          "text": [
            "\r[*********************100%%**********************]  1 of 1 completed\n"
          ]
        },
        {
          "output_type": "stream",
          "name": "stdout",
          "text": [
            "['2007-03-09', '2008-03-14', '2009-03-13', '2010-03-12', '2011-03-11', '2012-03-12', '2013-03-01', '2014-02-28', '2015-03-02', '2016-02-29', '2017-02-28', '2018-02-20', '2019-02-21', '2020-02-24', '2021-02-23', '2022-02-22', '2023-02-21', '2024-02-20']\n",
            "Completed: 167/198\n"
          ]
        },
        {
          "output_type": "stream",
          "name": "stderr",
          "text": [
            "\r[*********************100%%**********************]  1 of 1 completed\n"
          ]
        },
        {
          "output_type": "stream",
          "name": "stdout",
          "text": [
            "['2002-12-20', '2003-12-24', '2004-12-14', '2005-12-14', '2006-12-14', '2007-12-14', '2008-12-15', '2009-12-14', '2010-11-24', '2011-11-23', '2012-11-20', '2013-11-27', '2014-11-26', '2015-12-24', '2016-12-14', '2017-11-15', '2018-11-14', '2019-12-05', '2020-12-14', '2021-11-17', '2022-11-16', '2023-11-15']\n",
            "Completed: 168/198\n"
          ]
        },
        {
          "output_type": "stream",
          "name": "stderr",
          "text": [
            "\r[*********************100%%**********************]  1 of 1 completed\n"
          ]
        },
        {
          "output_type": "stream",
          "name": "stdout",
          "text": [
            "['2003-02-18', '2004-02-20', '2005-02-14', '2006-02-14', '2007-02-28', '2008-02-27', '2009-03-04', '2010-03-03', '2011-03-02', '2012-02-29', '2013-02-27', '2014-02-26', '2015-03-04', '2016-03-02', '2017-03-01', '2018-02-27', '2019-02-28', '2020-02-25', '2021-02-24', '2022-02-25', '2023-02-22', '2024-02-23']\n",
            "Completed: 169/198\n"
          ]
        },
        {
          "output_type": "stream",
          "name": "stderr",
          "text": [
            "\r[*********************100%%**********************]  1 of 1 completed\n"
          ]
        },
        {
          "output_type": "stream",
          "name": "stdout",
          "text": [
            "['2011-03-03', '2012-03-09', '2013-03-06', '2014-02-20', '2015-02-20', '2016-02-24', '2017-02-27', '2018-02-26', '2019-02-22', '2020-02-25', '2021-02-23', '2022-02-22', '2023-02-21', '2024-02-21']\n",
            "Completed: 170/198\n"
          ]
        },
        {
          "output_type": "stream",
          "name": "stderr",
          "text": [
            "\r[*********************100%%**********************]  1 of 1 completed\n"
          ]
        },
        {
          "output_type": "stream",
          "name": "stdout",
          "text": [
            "['2013-03-28', '2014-03-13', '2015-03-16', '2016-03-10', '2017-03-15', '2018-03-16', '2019-03-13', '2020-03-12', '2021-03-15', '2022-02-28', '2023-02-28', '2024-02-28']\n",
            "Completed: 171/198\n"
          ]
        },
        {
          "output_type": "stream",
          "name": "stderr",
          "text": [
            "\r[*********************100%%**********************]  1 of 1 completed\n"
          ]
        },
        {
          "output_type": "stream",
          "name": "stdout",
          "text": [
            "['2004-03-30', '2005-03-18', '2006-03-16', '2007-03-16', '2008-03-17', '2009-03-06', '2010-03-16', '2011-03-11', '2012-03-12', '2013-03-08', '2014-03-10', '2015-03-05', '2016-03-08', '2017-03-13', '2018-03-08', '2019-02-27', '2020-03-11', '2021-02-25', '2022-02-28', '2023-02-23', '2024-02-22']\n",
            "Completed: 172/198\n"
          ]
        },
        {
          "output_type": "stream",
          "name": "stderr",
          "text": [
            "\r[*********************100%%**********************]  1 of 1 completed\n"
          ]
        },
        {
          "output_type": "stream",
          "name": "stdout",
          "text": [
            "['2002-03-07', '2003-03-28', '2004-03-15', '2005-03-03', '2006-02-16', '2007-03-01', '2008-02-29', '2009-03-02', '2010-03-01', '2011-03-01', '2012-02-29', '2013-03-01', '2014-03-03', '2015-03-02', '2016-02-29', '2017-03-01', '2018-03-01', '2019-03-04', '2020-03-02', '2021-02-19', '2022-02-14', '2023-02-15', '2024-02-21']\n",
            "Completed: 173/198\n"
          ]
        },
        {
          "output_type": "stream",
          "name": "stderr",
          "text": [
            "\r[*********************100%%**********************]  1 of 1 completed\n"
          ]
        },
        {
          "output_type": "stream",
          "name": "stdout",
          "text": [
            "['2002-03-11', '2003-03-14', '2004-03-12', '2005-03-16', '2006-03-15', '2007-02-16', '2008-02-28', '2009-03-02', '2010-02-25', '2011-02-23', '2012-02-27', '2013-02-26', '2014-02-25', '2015-02-27', '2016-02-25', '2017-03-01', '2018-02-27', '2019-02-19', '2020-02-14', '2021-02-12', '2022-02-16', '2023-02-15', '2024-02-14']\n",
            "Completed: 174/198\n"
          ]
        },
        {
          "output_type": "stream",
          "name": "stderr",
          "text": [
            "\r[*********************100%%**********************]  1 of 1 completed\n"
          ]
        },
        {
          "output_type": "stream",
          "name": "stdout",
          "text": [
            "['2002-07-29', '2003-07-16', '2004-07-02', '2005-07-29', '2006-06-30', '2007-06-29', '2008-06-30', '2009-06-29', '2010-06-29', '2011-06-23', '2012-06-26', '2013-06-26', '2014-06-19', '2015-06-17', '2016-06-17', '2017-06-16', '2018-06-15', '2019-06-14', '2020-06-17', '2021-06-15', '2022-08-16', '2023-08-17']\n",
            "Completed: 175/198\n"
          ]
        },
        {
          "output_type": "stream",
          "name": "stderr",
          "text": [
            "\r[*********************100%%**********************]  1 of 1 completed\n"
          ]
        },
        {
          "output_type": "stream",
          "name": "stdout",
          "text": [
            "['2016-04-11', '2017-03-29', '2018-04-04', '2019-03-29', '2020-03-25', '2021-03-24', '2022-03-25', '2023-03-24']\n",
            "Completed: 176/198\n"
          ]
        },
        {
          "output_type": "stream",
          "name": "stderr",
          "text": [
            "\r[*********************100%%**********************]  1 of 1 completed\n"
          ]
        },
        {
          "output_type": "stream",
          "name": "stdout",
          "text": [
            "['2004-03-22', '2005-03-14', '2006-03-01', '2007-02-26', '2008-02-27', '2009-02-27', '2010-02-24', '2011-02-17', '2012-02-21', '2013-03-13', '2014-03-07', '2015-03-06', '2016-03-04', '2017-03-15', '2018-02-27', '2019-02-26', '2020-02-21', '2021-02-22', '2022-02-18', '2023-02-24', '2024-02-23']\n",
            "Completed: 177/198\n"
          ]
        },
        {
          "output_type": "stream",
          "name": "stderr",
          "text": [
            "\r[*********************100%%**********************]  1 of 1 completed\n"
          ]
        },
        {
          "output_type": "stream",
          "name": "stdout",
          "text": [
            "['2002-03-08', '2003-03-07', '2004-03-12', '2005-03-14', '2006-03-15', '2007-03-01', '2008-02-29', '2009-03-02', '2010-03-01', '2011-03-01', '2012-02-29', '2013-02-28', '2014-02-28', '2015-03-02', '2016-02-29', '2017-02-28', '2018-02-28', '2019-02-27', '2020-02-28', '2021-02-26', '2022-02-28', '2023-02-27']\n",
            "Completed: 178/198\n"
          ]
        },
        {
          "output_type": "stream",
          "name": "stderr",
          "text": [
            "\r[*********************100%%**********************]  1 of 1 completed\n"
          ]
        },
        {
          "output_type": "stream",
          "name": "stdout",
          "text": [
            "['2003-03-18', '2004-03-12', '2005-03-16', '2006-03-10', '2007-02-27', '2008-02-27', '2009-03-17', '2010-02-26', '2011-03-01', '2012-02-29', '2013-03-01', '2014-02-19', '2015-02-20', '2016-02-18', '2017-02-27', '2018-02-27', '2019-02-21', '2020-02-18', '2021-02-17', '2022-02-17', '2023-02-17', '2024-02-16']\n",
            "Completed: 179/198\n"
          ]
        },
        {
          "output_type": "stream",
          "name": "stderr",
          "text": [
            "\r[*********************100%%**********************]  1 of 1 completed\n"
          ]
        },
        {
          "output_type": "stream",
          "name": "stdout",
          "text": [
            "['2003-03-24', '2004-03-15', '2005-03-15', '2006-03-16', '2007-03-14', '2008-03-13', '2009-03-13', '2010-03-12', '2011-03-15', '2012-03-12', '2013-03-11', '2014-03-07', '2015-03-06', '2016-03-11', '2017-02-23', '2018-02-22', '2019-02-21', '2020-02-20', '2021-02-18', '2022-02-22', '2024-02-13']\n",
            "Completed: 180/198\n"
          ]
        },
        {
          "output_type": "stream",
          "name": "stderr",
          "text": [
            "\r[*********************100%%**********************]  1 of 1 completed\n"
          ]
        },
        {
          "output_type": "stream",
          "name": "stdout",
          "text": [
            "['2002-03-28', '2003-03-24', '2004-03-12', '2005-03-08', '2006-02-27', '2007-02-26', '2008-02-26', '2009-02-26', '2010-02-24', '2011-02-24', '2012-02-23', '2013-02-26', '2014-02-26', '2015-02-25', '2016-02-25', '2017-02-23', '2018-02-27', '2019-02-22', '2020-02-25', '2021-02-25', '2022-02-28', '2023-02-22', '2024-03-15']\n",
            "Completed: 181/198\n"
          ]
        },
        {
          "output_type": "stream",
          "name": "stderr",
          "text": [
            "\r[*********************100%%**********************]  1 of 1 completed\n"
          ]
        },
        {
          "output_type": "stream",
          "name": "stdout",
          "text": [
            "['2003-01-13', '2003-12-23', '2004-12-14', '2005-12-14', '2007-05-11', '2008-01-30', '2009-03-04', '2010-02-26', '2011-02-18', '2012-02-22', '2013-03-01', '2014-02-28', '2015-02-26', '2016-02-26', '2017-03-01', '2018-02-27', '2019-03-01', '2020-02-27', '2021-02-25', '2022-02-24', '2023-03-01', '2024-02-29']\n",
            "Completed: 182/198\n"
          ]
        },
        {
          "output_type": "stream",
          "name": "stderr",
          "text": [
            "\r[*********************100%%**********************]  1 of 1 completed\n"
          ]
        },
        {
          "output_type": "stream",
          "name": "stdout",
          "text": [
            "['2023-02-23', '2024-02-29']\n",
            "Completed: 183/198\n"
          ]
        },
        {
          "output_type": "stream",
          "name": "stderr",
          "text": [
            "\r[*********************100%%**********************]  1 of 1 completed\n"
          ]
        },
        {
          "output_type": "stream",
          "name": "stdout",
          "text": [
            "['2006-04-13', '2007-04-05', '2008-04-17', '2009-04-01', '2010-03-24', '2011-03-22', '2012-03-27', '2013-03-28', '2014-03-27', '2015-03-26', '2016-03-24', '2017-03-23', '2018-03-23', '2019-03-26', '2020-05-01', '2021-03-22', '2022-03-21', '2023-03-16', '2024-03-25']\n"
          ]
        },
        {
          "output_type": "stream",
          "name": "stderr",
          "text": [
            "\r[*********************100%%**********************]  1 of 1 completed"
          ]
        },
        {
          "output_type": "stream",
          "name": "stdout",
          "text": [
            "Completed: 184/198\n"
          ]
        },
        {
          "output_type": "stream",
          "name": "stderr",
          "text": [
            "\n"
          ]
        },
        {
          "output_type": "stream",
          "name": "stdout",
          "text": [
            "['2014-03-12', '2015-02-20', '2016-02-19', '2017-02-17', '2018-02-16', '2019-02-14', '2020-02-14', '2021-02-24', '2022-02-16', '2023-02-15']\n",
            "Completed: 185/198\n"
          ]
        },
        {
          "output_type": "stream",
          "name": "stderr",
          "text": [
            "\r[*********************100%%**********************]  1 of 1 completed\n"
          ]
        },
        {
          "output_type": "stream",
          "name": "stdout",
          "text": [
            "['2002-10-23', '2003-10-23', '2004-10-08', '2005-10-04', '2006-10-06', '2007-09-28', '2008-09-26', '2009-09-28', '2010-09-21', '2011-09-27', '2012-09-27', '2013-09-30', '2014-09-29', '2015-09-21', '2016-09-15', '2017-09-13', '2018-09-13', '2019-09-06', '2020-09-16', '2021-09-02', '2022-09-01', '2023-09-05']\n",
            "Completed: 186/198\n"
          ]
        },
        {
          "output_type": "stream",
          "name": "stderr",
          "text": [
            "\r[*********************100%%**********************]  1 of 1 completed\n"
          ]
        },
        {
          "output_type": "stream",
          "name": "stdout",
          "text": [
            "['2002-12-24', '2003-12-23', '2004-12-08', '2005-12-06', '2006-12-14', '2007-11-27', '2008-11-26', '2009-11-24', '2010-11-24', '2011-11-23', '2012-11-28', '2013-11-26', '2014-11-20', '2015-11-19', '2016-11-17', '2017-11-21', '2018-11-20', '2019-11-27', '2020-11-17', '2021-11-16', '2022-11-15', '2023-11-21']\n",
            "Completed: 187/198\n"
          ]
        },
        {
          "output_type": "stream",
          "name": "stderr",
          "text": [
            "\r[*********************100%%**********************]  1 of 1 completed\n"
          ]
        },
        {
          "output_type": "stream",
          "name": "stdout",
          "text": [
            "['2003-03-18', '2004-03-15', '2005-03-11', '2006-03-06', '2007-02-28', '2008-02-29', '2009-03-02', '2010-02-25', '2011-02-25', '2012-02-28', '2013-02-27', '2014-02-26', '2015-02-25', '2016-02-24', '2017-02-24', '2018-02-26', '2019-03-01', '2020-02-28', '2021-02-26', '2022-02-25', '2023-02-16', '2024-02-15']\n",
            "Completed: 188/198\n"
          ]
        },
        {
          "output_type": "stream",
          "name": "stderr",
          "text": [
            "\r[*********************100%%**********************]  1 of 1 completed\n"
          ]
        },
        {
          "output_type": "stream",
          "name": "stdout",
          "text": [
            "['2003-02-27', '2004-03-03', '2005-03-04', '2006-02-24', '2007-02-16', '2008-02-13', '2009-02-11', '2010-02-05', '2011-02-04', '2012-02-01', '2013-01-31', '2014-01-31', '2015-01-29', '2016-01-27', '2017-01-25', '2018-01-24', '2019-01-23', '2020-01-22', '2021-01-27', '2022-01-26', '2023-01-25', '2024-01-24']\n",
            "Completed: 189/198\n"
          ]
        },
        {
          "output_type": "stream",
          "name": "stderr",
          "text": [
            "\r[*********************100%%**********************]  1 of 1 completed\n"
          ]
        },
        {
          "output_type": "stream",
          "name": "stdout",
          "text": [
            "['2002-06-25', '2003-06-19', '2004-06-07', '2005-07-01', '2006-06-15', '2007-05-30', '2008-05-28', '2009-05-27', '2010-06-02', '2011-05-26', '2012-05-24', '2013-05-23', '2014-05-15', '2015-05-15', '2016-05-19', '2017-05-18', '2018-05-23', '2019-05-16', '2020-05-27', '2021-05-20', '2022-05-24', '2023-05-25']\n",
            "Completed: 190/198\n"
          ]
        },
        {
          "output_type": "stream",
          "name": "stderr",
          "text": [
            "\r[*********************100%%**********************]  1 of 1 completed\n"
          ]
        },
        {
          "output_type": "stream",
          "name": "stdout",
          "text": [
            "['2003-03-14', '2004-03-11', '2005-03-10', '2006-03-08', '2007-02-27', '2008-02-26', '2009-02-25', '2010-02-23', '2011-02-22', '2012-03-14', '2013-02-26', '2014-02-26', '2015-02-25', '2016-02-24', '2017-03-01', '2018-02-28', '2019-02-27', '2020-02-26', '2021-03-03', '2022-02-23', '2023-03-01', '2024-02-28']\n",
            "Completed: 191/198\n"
          ]
        },
        {
          "output_type": "stream",
          "name": "stderr",
          "text": [
            "\r[*********************100%%**********************]  1 of 1 completed\n"
          ]
        },
        {
          "output_type": "stream",
          "name": "stdout",
          "text": [
            "['2002-04-01', '2003-03-31', '2004-03-30', '2005-03-31', '2006-03-16', '2007-03-16', '2008-03-14', '2009-03-12', '2010-03-11', '2011-03-09', '2012-03-09', '2013-03-08', '2014-02-27', '2015-02-27', '2016-02-26', '2017-02-21', '2018-02-22', '2019-02-20', '2020-02-20', '2021-02-24', '2022-02-23', '2023-02-22', '2024-02-22']\n",
            "Completed: 192/198\n"
          ]
        },
        {
          "output_type": "stream",
          "name": "stderr",
          "text": [
            "\r[*********************100%%**********************]  1 of 1 completed\n"
          ]
        },
        {
          "output_type": "stream",
          "name": "stdout",
          "text": [
            "['2015-03-31', '2016-03-31', '2017-03-30', '2018-03-28', '2019-03-28', '2020-03-31', '2021-03-31', '2022-03-31', '2023-03-30', '2024-03-22']\n",
            "Completed: 193/198\n"
          ]
        },
        {
          "output_type": "stream",
          "name": "stderr",
          "text": [
            "\r[*********************100%%**********************]  1 of 1 completed\n"
          ]
        },
        {
          "output_type": "stream",
          "name": "stdout",
          "text": [
            "['2002-02-26', '2003-03-10', '2004-03-11', '2005-03-09', '2006-03-10', '2007-02-28', '2008-02-28', '2009-02-27', '2010-03-01', '2011-02-25', '2012-02-29', '2013-02-27', '2014-02-24', '2015-02-19', '2016-02-16', '2017-02-14', '2018-02-13', '2019-02-13', '2020-02-12', '2021-02-09', '2022-02-16', '2023-02-09', '2024-02-14']\n",
            "Completed: 194/198\n"
          ]
        },
        {
          "output_type": "stream",
          "name": "stderr",
          "text": [
            "\r[*********************100%%**********************]  1 of 1 completed\n"
          ]
        },
        {
          "output_type": "stream",
          "name": "stdout",
          "text": [
            "['2003-02-27', '2004-02-27', '2005-02-24', '2006-02-24', '2007-02-21', '2008-02-20', '2009-02-26', '2010-02-25', '2011-03-01', '2012-02-23', '2013-02-15', '2014-02-14', '2015-02-25', '2016-02-24', '2017-02-22', '2018-02-15', '2019-02-14', '2020-02-25', '2021-02-19', '2022-02-17', '2023-02-16', '2024-02-12']\n",
            "Completed: 195/198\n"
          ]
        },
        {
          "output_type": "stream",
          "name": "stderr",
          "text": [
            "\r[*********************100%%**********************]  1 of 1 completed\n"
          ]
        },
        {
          "output_type": "stream",
          "name": "stdout",
          "text": [
            "['2002-03-29', '2003-03-31', '2004-03-02', '2005-03-01', '2006-03-10', '2007-02-27', '2008-02-26', '2009-02-27', '2010-03-01', '2011-02-24', '2012-02-22', '2013-02-25', '2014-02-26', '2015-02-25', '2016-02-22', '2017-02-24', '2018-02-27', '2019-02-26', '2020-02-25', '2021-02-25', '2022-02-24', '2023-02-22', '2024-02-28']\n",
            "Completed: 196/198\n"
          ]
        },
        {
          "output_type": "stream",
          "name": "stderr",
          "text": [
            "\r[*********************100%%**********************]  1 of 1 completed\n"
          ]
        },
        {
          "output_type": "stream",
          "name": "stdout",
          "text": [
            "['2002-03-25', '2003-03-14', '2004-03-10', '2005-03-14', '2006-02-28', '2007-02-23', '2008-02-25', '2009-02-24', '2010-02-26', '2011-02-25', '2012-02-29', '2013-02-26', '2014-02-24', '2015-02-25', '2016-02-24', '2017-02-21', '2018-02-20', '2019-02-25', '2020-02-24', '2021-02-22', '2022-02-22', '2023-02-21', '2024-02-20']\n",
            "Completed: 197/198\n"
          ]
        },
        {
          "output_type": "stream",
          "name": "stderr",
          "text": [
            "\r[*********************100%%**********************]  1 of 1 completed\n",
            "<ipython-input-39-1012a20eb22c>:9: SettingWithCopyWarning: \n",
            "A value is trying to be set on a copy of a slice from a DataFrame.\n",
            "Try using .loc[row_indexer,col_indexer] = value instead\n",
            "\n",
            "See the caveats in the documentation: https://pandas.pydata.org/pandas-docs/stable/user_guide/indexing.html#returning-a-view-versus-a-copy\n",
            "  targets_df_filtered['era'] = targets_df_filtered['report_date'].apply(lambda x: x.year)\n"
          ]
        },
        {
          "output_type": "stream",
          "name": "stdout",
          "text": [
            "['2021-05-27', '2022-05-26', '2023-05-25']\n",
            "Completed: 198/198\n"
          ]
        }
      ]
    }
  ]
}