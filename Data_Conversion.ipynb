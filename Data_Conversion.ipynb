{
  "nbformat": 4,
  "nbformat_minor": 0,
  "metadata": {
    "colab": {
      "provenance": []
    },
    "kernelspec": {
      "name": "python3",
      "display_name": "Python 3"
    },
    "language_info": {
      "name": "python"
    }
  },
  "cells": [
    {
      "cell_type": "code",
      "execution_count": 1,
      "metadata": {
        "id": "4EqNgjVYKgW_"
      },
      "outputs": [],
      "source": [
        "from google.colab import drive"
      ]
    },
    {
      "cell_type": "code",
      "source": [
        "drive.mount('/content/drive')"
      ],
      "metadata": {
        "colab": {
          "base_uri": "https://localhost:8080/"
        },
        "id": "W9jn9mnrkboM",
        "outputId": "c63a80ec-eec4-4ff7-dd36-65183235da84"
      },
      "execution_count": 2,
      "outputs": [
        {
          "output_type": "stream",
          "name": "stdout",
          "text": [
            "Mounted at /content/drive\n"
          ]
        }
      ]
    },
    {
      "cell_type": "markdown",
      "source": [
        "### Author Implmentation\n",
        "*****"
      ],
      "metadata": {
        "id": "N2K4AtkDi91w"
      }
    },
    {
      "cell_type": "code",
      "source": [
        "!pip install pdfkit"
      ],
      "metadata": {
        "colab": {
          "base_uri": "https://localhost:8080/"
        },
        "id": "ERkChaMkk_-0",
        "outputId": "d64d7180-31b4-4927-fd2f-f2d3e63d53e4"
      },
      "execution_count": 3,
      "outputs": [
        {
          "output_type": "stream",
          "name": "stdout",
          "text": [
            "Collecting pdfkit\n",
            "  Downloading pdfkit-1.0.0-py3-none-any.whl (12 kB)\n",
            "Installing collected packages: pdfkit\n",
            "Successfully installed pdfkit-1.0.0\n"
          ]
        }
      ]
    },
    {
      "cell_type": "code",
      "source": [
        "!apt-get install -y wkhtmltopdf"
      ],
      "metadata": {
        "id": "-KgGTvW_NJWU"
      },
      "execution_count": null,
      "outputs": []
    },
    {
      "cell_type": "code",
      "source": [
        "import pdfkit\n",
        "import glob\n",
        "import os\n",
        "import json\n",
        "import argparse\n",
        "import sys"
      ],
      "metadata": {
        "id": "hyhR8gfGkkYD"
      },
      "execution_count": 7,
      "outputs": []
    },
    {
      "cell_type": "code",
      "source": [
        "# Conversion Function\n",
        "def convert_html_to_pdf(html_path, pdf_save_path):\n",
        "    try:\n",
        "        pdfkit.from_file(html_path, pdf_save_path)\n",
        "    #It might throw an OSError. But the conversion is complete irrespective.\n",
        "    except OSError:\n",
        "        pass"
      ],
      "metadata": {
        "id": "JPpyapdalRFx"
      },
      "execution_count": 5,
      "outputs": []
    },
    {
      "cell_type": "code",
      "source": [
        "#convert_html_to_pdf(\"/content/drive/My Drive/DS340/data_html2/AAPL/2002-12-19/2002-12-19.htm\", \"/content/drive/My Drive/DS340/data_pdf2/2002-12-19.pdf\")"
      ],
      "metadata": {
        "id": "uyeY4vW1K2n6"
      },
      "execution_count": 22,
      "outputs": []
    },
    {
      "cell_type": "code",
      "source": [
        "def main(args):\n",
        "    with open(args.config_path) as json_file:\n",
        "        config_dict = json.load(json_file)\n",
        "    #Get directory paths for all symbols as a list  (Symbols are AAPL, MSFT etc)\n",
        "    symbol_paths = [folder for folder in glob.glob(os.path.join(config_dict['annual_reports_html_save_directory'], '*')) \\\n",
        "                        if os.path.isdir(folder)]\n",
        "    for i, symbol_path in enumerate(symbol_paths):\n",
        "        #Get symbol name\n",
        "        symbol = symbol_path.split('/')[-1]\n",
        "        #Get annual_report dates for the symbol. Directories are named by the annual_report date\n",
        "        ar_dates_symbol_paths = [folder for folder in glob.glob(os.path.join(symbol_path, '*')) \\\n",
        "                                    if os.path.isdir(folder)]\n",
        "        #Iterate over each date and convert the html file to pdf file\n",
        "        for ar_dates_symbol_path in ar_dates_symbol_paths:\n",
        "            ar_paths = [file for file in glob.glob(os.path.join(ar_dates_symbol_path, '*')) \\\n",
        "                            if os.path.isfile(file)]\n",
        "            #ar_paths should be a list of 1 element only i.e the report\n",
        "            #assert len(ar_paths)==1\n",
        "            date = ar_dates_symbol_path.split('/')[-1]\n",
        "            pdf_save_dir = os.path.join(config_dict['annual_reports_pdf_save_directory'], symbol, date)\n",
        "            pdf_save_path = os.path.join(pdf_save_dir, date+'.pdf')\n",
        "            #If path exists, then the conversion has already happened before\n",
        "            if os.path.exists(pdf_save_path):\n",
        "                continue\n",
        "            else:\n",
        "                if not os.path.exists(pdf_save_dir):\n",
        "                    os.makedirs(pdf_save_dir)\n",
        "                convert_html_to_pdf(ar_paths[0], pdf_save_path)\n",
        "        print('Completed: {}/{}'.format(i+1, len(symbol_paths)))"
      ],
      "metadata": {
        "id": "gCbQpH_MlSIb"
      },
      "execution_count": 34,
      "outputs": []
    },
    {
      "cell_type": "code",
      "source": [
        "args = argparse.Namespace(config_path=\"/content/drive/My Drive/DS340/config.json\")"
      ],
      "metadata": {
        "id": "uzfSBKaclimc"
      },
      "execution_count": 8,
      "outputs": []
    },
    {
      "cell_type": "code",
      "source": [
        "main(args)"
      ],
      "metadata": {
        "id": "L-81hPciltP8"
      },
      "execution_count": null,
      "outputs": []
    },
    {
      "cell_type": "markdown",
      "source": [
        "### Modified Implmentation\n",
        "*****"
      ],
      "metadata": {
        "id": "sXDVCWaQjGFw"
      }
    },
    {
      "cell_type": "code",
      "source": [
        "# Allows converting of HTML files in batches\n",
        "def main2(args, start_index, end_index):\n",
        "    with open(args.config_path) as json_file:\n",
        "        config_dict = json.load(json_file)\n",
        "    # Get directory paths for all symbols as a list (Symbols are AAPL, MSFT etc)\n",
        "    symbol_paths = [folder for folder in glob.glob(os.path.join(config_dict['annual_reports_html_save_directory'], '*')) \\\n",
        "                        if os.path.isdir(folder)]\n",
        "    # Filter symbol_paths based on start_index and end_index\n",
        "    symbol_paths = symbol_paths[start_index:end_index]\n",
        "    for i, symbol_path in enumerate(symbol_paths):\n",
        "        # Get symbol name\n",
        "        symbol = symbol_path.split('/')[-1]\n",
        "        # Get annual_report dates for the symbol. Directories are named by the annual_report date\n",
        "        ar_dates_symbol_paths = [folder for folder in glob.glob(os.path.join(symbol_path, '*')) \\\n",
        "                                    if os.path.isdir(folder)]\n",
        "        # Iterate over each date and convert the html file to pdf file\n",
        "        for ar_dates_symbol_path in ar_dates_symbol_paths:\n",
        "            ar_paths = [file for file in glob.glob(os.path.join(ar_dates_symbol_path, '*')) \\\n",
        "                            if os.path.isfile(file)]\n",
        "            # ar_paths should be a list of 1 element only i.e the report\n",
        "            # assert len(ar_paths)==1\n",
        "            date = ar_dates_symbol_path.split('/')[-1]\n",
        "            pdf_save_dir = os.path.join(config_dict['annual_reports_pdf_save_directory'], symbol, date)\n",
        "            pdf_save_path = os.path.join(pdf_save_dir, date+'.pdf')\n",
        "            # If path exists, then the conversion has already happened before\n",
        "            if os.path.exists(pdf_save_path):\n",
        "                continue\n",
        "            else:\n",
        "                if not os.path.exists(pdf_save_dir):\n",
        "                    os.makedirs(pdf_save_dir)\n",
        "                convert_html_to_pdf(ar_paths[0], pdf_save_path)\n",
        "        print('Completed: {}/{}'.format(i+1, len(symbol_paths)))"
      ],
      "metadata": {
        "id": "qD4mbTswcOQk"
      },
      "execution_count": 9,
      "outputs": []
    },
    {
      "cell_type": "code",
      "source": [
        "main2(args, start_index=23, end_index=27)"
      ],
      "metadata": {
        "colab": {
          "base_uri": "https://localhost:8080/"
        },
        "id": "q1XLAol_cRah",
        "outputId": "492bd5f4-e55f-4d7c-b6c3-589545008a0a"
      },
      "execution_count": 39,
      "outputs": [
        {
          "output_type": "stream",
          "name": "stdout",
          "text": [
            "Completed: 1/4\n",
            "Completed: 2/4\n",
            "Completed: 3/4\n",
            "Completed: 4/4\n"
          ]
        }
      ]
    },
    {
      "cell_type": "code",
      "source": [
        "main2(args, start_index=27, end_index=67)"
      ],
      "metadata": {
        "id": "m7Cuvt7Cdh4o"
      },
      "execution_count": null,
      "outputs": []
    },
    {
      "cell_type": "code",
      "source": [
        "main2(args, start_index=57, end_index=97)"
      ],
      "metadata": {
        "colab": {
          "base_uri": "https://localhost:8080/"
        },
        "id": "IY3GtoWGqqE5",
        "outputId": "0997d9dc-c29a-454e-ca44-569a4153e182"
      },
      "execution_count": 10,
      "outputs": [
        {
          "output_type": "stream",
          "name": "stdout",
          "text": [
            "Completed: 1/40\n",
            "Completed: 2/40\n",
            "Completed: 3/40\n",
            "Completed: 4/40\n",
            "Completed: 5/40\n",
            "Completed: 6/40\n",
            "Completed: 7/40\n",
            "Completed: 8/40\n",
            "Completed: 9/40\n",
            "Completed: 10/40\n",
            "Completed: 11/40\n",
            "Completed: 12/40\n",
            "Completed: 13/40\n",
            "Completed: 14/40\n",
            "Completed: 15/40\n",
            "Completed: 16/40\n",
            "Completed: 17/40\n",
            "Completed: 18/40\n",
            "Completed: 19/40\n",
            "Completed: 20/40\n",
            "Completed: 21/40\n",
            "Completed: 22/40\n",
            "Completed: 23/40\n",
            "Completed: 24/40\n",
            "Completed: 25/40\n",
            "Completed: 26/40\n",
            "Completed: 27/40\n",
            "Completed: 28/40\n",
            "Completed: 29/40\n",
            "Completed: 30/40\n",
            "Completed: 31/40\n",
            "Completed: 32/40\n",
            "Completed: 33/40\n",
            "Completed: 34/40\n",
            "Completed: 35/40\n",
            "Completed: 36/40\n",
            "Completed: 37/40\n",
            "Completed: 38/40\n",
            "Completed: 39/40\n",
            "Completed: 40/40\n"
          ]
        }
      ]
    },
    {
      "cell_type": "code",
      "source": [
        "main2(args, start_index=97, end_index=137)"
      ],
      "metadata": {
        "colab": {
          "base_uri": "https://localhost:8080/"
        },
        "id": "TUTDy5oBzjCl",
        "outputId": "359943da-d1ca-4fcb-c9b9-264d0a653f0b"
      },
      "execution_count": 11,
      "outputs": [
        {
          "output_type": "stream",
          "name": "stdout",
          "text": [
            "Completed: 1/40\n",
            "Completed: 2/40\n",
            "Completed: 3/40\n",
            "Completed: 4/40\n",
            "Completed: 5/40\n",
            "Completed: 6/40\n",
            "Completed: 7/40\n",
            "Completed: 8/40\n",
            "Completed: 9/40\n",
            "Completed: 10/40\n",
            "Completed: 11/40\n",
            "Completed: 12/40\n",
            "Completed: 13/40\n",
            "Completed: 14/40\n",
            "Completed: 15/40\n",
            "Completed: 16/40\n",
            "Completed: 17/40\n",
            "Completed: 18/40\n",
            "Completed: 19/40\n",
            "Completed: 20/40\n",
            "Completed: 21/40\n",
            "Completed: 22/40\n",
            "Completed: 23/40\n",
            "Completed: 24/40\n",
            "Completed: 25/40\n",
            "Completed: 26/40\n",
            "Completed: 27/40\n",
            "Completed: 28/40\n",
            "Completed: 29/40\n",
            "Completed: 30/40\n",
            "Completed: 31/40\n",
            "Completed: 32/40\n",
            "Completed: 33/40\n",
            "Completed: 34/40\n",
            "Completed: 35/40\n",
            "Completed: 36/40\n",
            "Completed: 37/40\n",
            "Completed: 38/40\n",
            "Completed: 39/40\n",
            "Completed: 40/40\n"
          ]
        }
      ]
    },
    {
      "cell_type": "code",
      "source": [
        "main2(args, start_index=137, end_index=198)"
      ],
      "metadata": {
        "id": "j8WYiu409LWm"
      },
      "execution_count": null,
      "outputs": []
    }
  ]
}